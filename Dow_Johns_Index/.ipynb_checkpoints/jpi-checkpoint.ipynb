{
 "cells": [
  {
   "cell_type": "code",
   "execution_count": 2,
   "metadata": {},
   "outputs": [
    {
     "name": "stdout",
     "output_type": "stream",
     "text": [
      "         date        AXP          BA        CAT       CSCO         CVX  \\\n0  2013-09-23  76.440002  117.510002  85.029999  24.270000  125.519997   \n1  2013-09-24  76.070000  119.000000  85.110001  24.139999  124.489998   \n2  2013-09-25  75.989998  118.510002  84.500000  24.430000  124.070000   \n3  2013-09-26  76.320000  119.379997  84.199997  23.770000  123.489998   \n4  2013-09-27  75.889999  118.739998  83.800003  23.330000  122.639999   \n\n          DD        DIS         GE          GS    ...            PFE  \\\n0  59.409999  64.750000  24.280001  165.250000    ...      28.799999   \n1  59.319997  64.320000  24.320000  162.970001    ...      28.709999   \n2  59.319997  64.449997  24.230000  162.309998    ...      28.490000   \n3  59.509996  65.239998  24.250000  162.289993    ...      28.520000   \n4  59.009995  65.190002  24.049999  159.850006    ...      28.879999   \n\n          PG          T        TRV        UNH         UTX           V  \\\n0  79.279999  34.220001  86.379997  71.820000  109.419998  196.240005   \n1  78.620003  34.090000  85.870003  72.320000  110.000000  193.339996   \n2  77.720001  34.049999  85.980003  71.980003  109.260002  191.559998   \n3  78.050003  34.230000  85.830002  72.160004  109.660004  193.559998   \n4  77.209999  33.980000  85.410004  71.989998  109.360001  193.050003   \n\n          VZ        WMT        XOM  \n0  47.980000  76.419998  87.750000  \n1  47.270000  75.750000  87.360001  \n2  46.950001  74.650002  87.139999  \n3  47.669998  74.620003  87.070000  \n4  47.000000  74.360001  86.900002  \n\n[5 rows x 31 columns]\n"
     ]
    }
   ],
   "source": [
    "import pandas as pd\n",
    "from sklearn.decomposition import PCA\n",
    "import numpy as np\n",
    "df = pd.read_csv('close_prices.csv', index_col=None)\n",
    "print df.head()"
   ]
  },
  {
   "cell_type": "code",
   "execution_count": 28,
   "metadata": {},
   "outputs": [
    {
     "name": "stdout",
     "output_type": "stream",
     "text": [
      "[[ 1.          0.90965222]\n [ 0.90965222  1.        ]]\nV\n"
     ]
    }
   ],
   "source": [
    "pca = PCA(n_components=10)\n",
    "data = df.ix[:,1:31]\n",
    "pca.fit_transform(X=data)\n",
    "# print pca.explained_variance_ratio_\n",
    "# print sum(pca.explained_variance_ratio_)\n",
    "transformed = pca.transform(X=data)\n",
    "df2 = pd.read_csv('djia_index.csv', index_col=None)\n",
    "print np.corrcoef(x=transformed[:,0], y=df2['^DJI'])\n",
    "ix = np.argmax(a=pca.components_[0])\n",
    "print data.columns.values[ix]"
   ]
  }
 ],
 "metadata": {
  "kernelspec": {
   "display_name": "Python 2",
   "language": "python",
   "name": "python2"
  },
  "language_info": {
   "codemirror_mode": {
    "name": "ipython",
    "version": 2.0
   },
   "file_extension": ".py",
   "mimetype": "text/x-python",
   "name": "python",
   "nbconvert_exporter": "python",
   "pygments_lexer": "ipython2",
   "version": "2.7.11"
  }
 },
 "nbformat": 4,
 "nbformat_minor": 0
}