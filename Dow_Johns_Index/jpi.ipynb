{
 "cells": [
  {
   "cell_type": "code",
   "execution_count": 5,
   "metadata": {},
   "outputs": [
    {
     "name": "stdout",
     "output_type": "stream",
     "text": [
      "         date        AXP          BA        CAT       CSCO         CVX  \\\n",
      "0  2013-09-23  76.440002  117.510002  85.029999  24.270000  125.519997   \n",
      "1  2013-09-24  76.070000  119.000000  85.110001  24.139999  124.489998   \n",
      "2  2013-09-25  75.989998  118.510002  84.500000  24.430000  124.070000   \n",
      "3  2013-09-26  76.320000  119.379997  84.199997  23.770000  123.489998   \n",
      "4  2013-09-27  75.889999  118.739998  83.800003  23.330000  122.639999   \n",
      "\n",
      "          DD        DIS         GE          GS    ...            PFE  \\\n",
      "0  59.409999  64.750000  24.280001  165.250000    ...      28.799999   \n",
      "1  59.319997  64.320000  24.320000  162.970001    ...      28.709999   \n",
      "2  59.319997  64.449997  24.230000  162.309998    ...      28.490000   \n",
      "3  59.509996  65.239998  24.250000  162.289993    ...      28.520000   \n",
      "4  59.009995  65.190002  24.049999  159.850006    ...      28.879999   \n",
      "\n",
      "          PG          T        TRV        UNH         UTX           V  \\\n",
      "0  79.279999  34.220001  86.379997  71.820000  109.419998  196.240005   \n",
      "1  78.620003  34.090000  85.870003  72.320000  110.000000  193.339996   \n",
      "2  77.720001  34.049999  85.980003  71.980003  109.260002  191.559998   \n",
      "3  78.050003  34.230000  85.830002  72.160004  109.660004  193.559998   \n",
      "4  77.209999  33.980000  85.410004  71.989998  109.360001  193.050003   \n",
      "\n",
      "          VZ        WMT        XOM  \n",
      "0  47.980000  76.419998  87.750000  \n",
      "1  47.270000  75.750000  87.360001  \n",
      "2  46.950001  74.650002  87.139999  \n",
      "3  47.669998  74.620003  87.070000  \n",
      "4  47.000000  74.360001  86.900002  \n",
      "\n",
      "[5 rows x 31 columns]\n"
     ]
    }
   ],
   "source": [
    "import pandas as pd\n",
    "from sklearn.decomposition import PCA\n",
    "import numpy as np\n",
    "df = pd.read_csv('close_prices.csv', index_col=None)\n",
    "print df.head()"
   ]
  },
  {
   "cell_type": "code",
   "execution_count": 33,
   "metadata": {},
   "outputs": [
    {
     "name": "stdout",
     "output_type": "stream",
     "text": [
      "[ 0.73897118  0.11007169  0.04995088  0.0287492   0.02215448  0.01931577\n",
      "  0.00674853  0.00614091  0.00320594  0.00305611]\n",
      "0.988364692911\n",
      "10\n",
      "374\n"
     ]
    }
   ],
   "source": [
    "pca = PCA(n_components=10)\n",
    "pca.fit_transform(X=df.ix[:,1:31])\n",
    "print pca.explained_variance_ratio_\n",
    "print sum(pca.explained_variance_ratio_)\n",
    "transformed = pca.transform(X=df.ix[:,1:31])"
   ]
  }
 ],
 "metadata": {
  "kernelspec": {
   "display_name": "Python 2",
   "language": "python",
   "name": "python2"
  },
  "language_info": {
   "codemirror_mode": {
    "name": "ipython",
    "version": 2.0
   },
   "file_extension": ".py",
   "mimetype": "text/x-python",
   "name": "python",
   "nbconvert_exporter": "python",
   "pygments_lexer": "ipython2",
   "version": "2.7.11"
  }
 },
 "nbformat": 4,
 "nbformat_minor": 0
}