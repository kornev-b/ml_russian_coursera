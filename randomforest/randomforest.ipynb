{
 "cells": [
  {
   "cell_type": "code",
   "execution_count": 9,
   "metadata": {},
   "outputs": [
    {
     "name": "stdout",
     "output_type": "stream",
     "text": [
      "[0.10213869487724367, 0.33841675515802144, 0.40357984946186909, 0.44272239896668103, 0.46402076606749693, 0.47058163275877918, 0.47583061635230062, 0.4817418456255852, 0.4883478130215681, 0.49446412480247826, 0.4933965550001963, 0.49796587639761541, 0.50213646057228534, 0.50642869622573283, 0.50833119704321006, 0.51051314383221469, 0.51384829479930283, 0.51632754127394931, 0.51903468813638798, 0.51867359287238224, 0.51983542335425015, 0.52015835367222107, 0.52101727093662509, 0.52240318258080909, 0.52261746396760711, 0.52380615817170517, 0.52412235221889814, 0.52505374512324399, 0.52597037563489313, 0.52653782166757546, 0.52709985443060225, 0.52838940820927838, 0.52961655612292768, 0.52956395544383794, 0.52951724744047302, 0.5295996267890184, 0.52913141344745995, 0.52916025763348329, 0.52924098102743389, 0.52906701596316297, 0.52934200569111833, 0.52957320653375461, 0.52937549466485323, 0.52911923375632508, 0.52837546602772023, 0.52852042754934581, 0.52870494457919082, 0.52961275154377341, 0.53039445544344976]\n49\n"
     ]
    }
   ],
   "source": [
    "import pandas as pd\n",
    "from sklearn.ensemble import RandomForestRegressor\n",
    "from sklearn.cross_validation import KFold\n",
    "from sklearn.cross_validation import cross_val_score\n",
    "from sklearn.metrics import r2_score\n",
    "\n",
    "def scorer(estimator, X, y):\n",
    "    y_pred = estimator.predict(X)\n",
    "    return r2_score(y_true=y, y_pred=y_pred)\n",
    "df = pd.read_csv('abalone.csv', index_col=None)\n",
    "df['Sex'] = df['Sex'].map(lambda x: 1 if x == 'M' else (-1 if x == 'F' else 0))\n",
    "data = df.ix[:, 0:8]\n",
    "target = df['Rings']\n",
    "kf = KFold(len(df.index), n_folds=5, shuffle=True, random_state=1)\n",
    "result = list()\n",
    "for i in xrange(1, 50):\n",
    "    clf = RandomForestRegressor(random_state=1, n_estimators=i)\n",
    "    cs_result = cross_val_score(clf, X=data, y=target, cv=kf, scoring=scorer)\n",
    "    result.append(cs_result.mean())\n",
    "max = max(result)\n",
    "print result\n",
    "print result.index(max) + 1"
   ]
  },
  {
   "cell_type": "code",
   "execution_count": 11,
   "metadata": {},
   "outputs": [
    {
     "name": "stdout",
     "output_type": "stream",
     "text": [
      "22\n"
     ]
    }
   ],
   "source": [
    "for i in xrange(0, len(result)):\n",
    "    if(result[i] >= 0.52): \n",
    "        print i + 1\n",
    "        break"
   ]
  }
 ],
 "metadata": {},
 "nbformat": 4,
 "nbformat_minor": 0
}