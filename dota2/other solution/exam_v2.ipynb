{
 "cells": [
  {
   "cell_type": "markdown",
   "metadata": {},
   "source": [
    "# Предсказание победителя в онлайн-игре"
   ]
  },
  {
   "cell_type": "code",
   "execution_count": 56,
   "metadata": {
    "collapsed": true
   },
   "outputs": [],
   "source": [
    "import pandas as pd\n",
    "import numpy as np\n",
    "from sklearn import cross_validation\n",
    "from sklearn.cross_validation import KFold\n",
    "\n",
    "import time\n",
    "import datetime"
   ]
  },
  {
   "cell_type": "markdown",
   "metadata": {},
   "source": [
    "## Подготовка обучающей выборки"
   ]
  },
  {
   "cell_type": "code",
   "execution_count": 27,
   "metadata": {
    "collapsed": false
   },
   "outputs": [
    {
     "name": "stdout",
     "output_type": "stream",
     "text": [
      "(97230, 108)\n"
     ]
    }
   ],
   "source": [
    "#загрузим файл с признаками\n",
    "features = pd.read_csv('./features.csv', index_col='match_id')\n",
    "print features.shape\n",
    "#загрузим файл с тестовой выборкой\n",
    "X_test = pd.read_csv('./features_test.csv', index_col='match_id')"
   ]
  },
  {
   "cell_type": "code",
   "execution_count": 4,
   "metadata": {
    "collapsed": false
   },
   "outputs": [
    {
     "name": "stdout",
     "output_type": "stream",
     "text": [
      "['tower_status_dire', 'barracks_status_dire', 'barracks_status_radiant', 'tower_status_radiant', 'duration', 'radiant_win']\n"
     ]
    }
   ],
   "source": [
    "#посмотрим какие колонки стоит убрать. Очевидно, что они есть в тренировочной, но отсутствуют в тестовых выборках\n",
    "columns_to_drop = list(set(features.columns) - set(X_test.columns))\n",
    "print columns_to_drop"
   ]
  },
  {
   "cell_type": "markdown",
   "metadata": {},
   "source": [
    "Анализ названий столбцов и их описание говорит нам, что целевая переменная находится в столбце 'radiant_win'.\n",
    "т.к.: 1) принимает значения (0,1) 2) отсутствует в тестовой выборке 3) перевод соответсвует 4) в инструкции так написано\n",
    "\n",
    "переменная - целевая, а <b>не признак</b>. Поэтому <b>переменная radiant_win НЕ используется как признак</b>, убрираем и запоминаем ее в результат<br>\n",
    "(Уважаемый проверяющий, обратите, пожалуйста, внимание на формулировку вопроса. Правильный ответ - \"нет\". Спасибо)"
   ]
  },
  {
   "cell_type": "code",
   "execution_count": 197,
   "metadata": {
    "collapsed": false
   },
   "outputs": [
    {
     "data": {
      "text/plain": [
       "(97230, 102)"
      ]
     },
     "execution_count": 197,
     "metadata": {},
     "output_type": "execute_result"
    }
   ],
   "source": [
    "#выбросим лишние признаки, которые заглядывали в будущее + выбросим целевую переменную radiant_win\n",
    "data = features.drop(columns_to_drop,axis=1)\n",
    "# Проверим, что данные для обучения и для тестирования - одинаковы\n",
    "assert(all(data.columns == X_test.columns))\n",
    "data.shape"
   ]
  },
  {
   "cell_type": "markdown",
   "metadata": {},
   "source": [
    "Удалены из выборки поля tower_status_radiant, tower_status_dire, barracks_status_radiant, barracks_status_dir, теперь выпишем Y"
   ]
  },
  {
   "cell_type": "code",
   "execution_count": 5,
   "metadata": {
    "collapsed": false
   },
   "outputs": [],
   "source": [
    "#Выписываем итоговый столбец\n",
    "#выделим Y в массив без названий строк и столбцов\n",
    "Y=np.ravel(features[['radiant_win']]);"
   ]
  },
  {
   "cell_type": "markdown",
   "metadata": {},
   "source": [
    "Посмотрим на то, много ли пропусков, и в каких столбцах."
   ]
  },
  {
   "cell_type": "code",
   "execution_count": 42,
   "metadata": {
    "collapsed": false
   },
   "outputs": [
    {
     "data": {
      "text/html": [
       "<div>\n",
       "<table border=\"1\" class=\"dataframe\">\n",
       "  <thead>\n",
       "    <tr style=\"text-align: right;\">\n",
       "      <th></th>\n",
       "      <th>Всего не NaN</th>\n",
       "      <th>Доля NaN</th>\n",
       "    </tr>\n",
       "  </thead>\n",
       "  <tbody>\n",
       "    <tr>\n",
       "      <th>first_blood_player2</th>\n",
       "      <td>53243</td>\n",
       "      <td>0.45</td>\n",
       "    </tr>\n",
       "    <tr>\n",
       "      <th>radiant_flying_courier_time</th>\n",
       "      <td>69751</td>\n",
       "      <td>0.28</td>\n",
       "    </tr>\n",
       "    <tr>\n",
       "      <th>dire_flying_courier_time</th>\n",
       "      <td>71132</td>\n",
       "      <td>0.27</td>\n",
       "    </tr>\n",
       "    <tr>\n",
       "      <th>first_blood_player1</th>\n",
       "      <td>77677</td>\n",
       "      <td>0.20</td>\n",
       "    </tr>\n",
       "    <tr>\n",
       "      <th>first_blood_team</th>\n",
       "      <td>77677</td>\n",
       "      <td>0.20</td>\n",
       "    </tr>\n",
       "    <tr>\n",
       "      <th>first_blood_time</th>\n",
       "      <td>77677</td>\n",
       "      <td>0.20</td>\n",
       "    </tr>\n",
       "    <tr>\n",
       "      <th>dire_bottle_time</th>\n",
       "      <td>81087</td>\n",
       "      <td>0.17</td>\n",
       "    </tr>\n",
       "    <tr>\n",
       "      <th>radiant_bottle_time</th>\n",
       "      <td>81539</td>\n",
       "      <td>0.16</td>\n",
       "    </tr>\n",
       "    <tr>\n",
       "      <th>dire_first_ward_time</th>\n",
       "      <td>95404</td>\n",
       "      <td>0.02</td>\n",
       "    </tr>\n",
       "    <tr>\n",
       "      <th>radiant_first_ward_time</th>\n",
       "      <td>95394</td>\n",
       "      <td>0.02</td>\n",
       "    </tr>\n",
       "    <tr>\n",
       "      <th>dire_courier_time</th>\n",
       "      <td>96554</td>\n",
       "      <td>0.01</td>\n",
       "    </tr>\n",
       "    <tr>\n",
       "      <th>radiant_courier_time</th>\n",
       "      <td>96538</td>\n",
       "      <td>0.01</td>\n",
       "    </tr>\n",
       "    <tr>\n",
       "      <th>total</th>\n",
       "      <td>97230</td>\n",
       "      <td>0.00</td>\n",
       "    </tr>\n",
       "  </tbody>\n",
       "</table>\n",
       "</div>"
      ],
      "text/plain": [
       "                             Всего не NaN  Доля NaN\n",
       "first_blood_player2                 53243      0.45\n",
       "radiant_flying_courier_time         69751      0.28\n",
       "dire_flying_courier_time            71132      0.27\n",
       "first_blood_player1                 77677      0.20\n",
       "first_blood_team                    77677      0.20\n",
       "first_blood_time                    77677      0.20\n",
       "dire_bottle_time                    81087      0.17\n",
       "radiant_bottle_time                 81539      0.16\n",
       "dire_first_ward_time                95404      0.02\n",
       "radiant_first_ward_time             95394      0.02\n",
       "dire_courier_time                   96554      0.01\n",
       "radiant_courier_time                96538      0.01\n",
       "total                               97230      0.00"
      ]
     },
     "execution_count": 42,
     "metadata": {},
     "output_type": "execute_result"
    }
   ],
   "source": [
    "total_rows = data.shape[0]\n",
    "nan_dict = {'total': {'Всего не NaN': total_rows, 'Доля NaN': 0}}\n",
    "for column_name in data.columns:\n",
    "    not_nans = data[column_name].count()\n",
    "    if not_nans < total_rows:\n",
    "        nan_dict[column_name] = {'Всего не NaN': data[column_name].count(),\n",
    "                                 'Доля NaN': round(1 - data[column_name].count()*1.0 / total_rows, 2)}\n",
    "        \n",
    "df = pd.DataFrame.from_dict(nan_dict, orient='index').sort_values(by='Доля NaN', ascending=False)\n",
    "df"
   ]
  },
  {
   "cell_type": "code",
   "execution_count": 41,
   "metadata": {
    "collapsed": false
   },
   "outputs": [
    {
     "data": {
      "text/plain": [
       "['first_blood_player2',\n",
       " 'radiant_flying_courier_time',\n",
       " 'dire_flying_courier_time',\n",
       " 'first_blood_player1',\n",
       " 'first_blood_team',\n",
       " 'first_blood_time',\n",
       " 'dire_bottle_time',\n",
       " 'radiant_bottle_time',\n",
       " 'dire_first_ward_time',\n",
       " 'radiant_first_ward_time',\n",
       " 'dire_courier_time',\n",
       " 'radiant_courier_time',\n",
       " 'total']"
      ]
     },
     "execution_count": 41,
     "metadata": {},
     "output_type": "execute_result"
    }
   ],
   "source": [
    "#выводим список незаполненных столбцов для ответа на вопрос\n",
    "list(df.axes[0])"
   ]
  },
  {
   "cell_type": "markdown",
   "metadata": {},
   "source": [
    "Данные в столбцах first_blood_time, first_blood_team, first_blood_player1 соответствуют событию \"first blood\" соответственно их отсутствие говорит об отсутствии этого события за 5 минут.\n",
    "first_blood_player2 отсутствует в примерно половине данных. возможно говорит о непричастности 2ого игрока в такой ситуации. Однако, возможно, это означает неполноту данных.\n",
    "Данные в столбцах team_bottle_time, team_courier_time, team_flying_courier_time, team_first_ward_time(где team соответствует dire или radiant) говорят о времени использвания командой team определенных предметов. Соответсвенно отсутсвие говорит о не использовании командой этих предметов за первые 5 минут.\n"
   ]
  },
  {
   "cell_type": "code",
   "execution_count": 43,
   "metadata": {
    "collapsed": true
   },
   "outputs": [],
   "source": [
    "#В задании разрешено выбрать способ заполнить NAN ячейки ,поэтому:\n",
    "\n",
    "#предполагаем, что если никто не сделал FB то его сделала некая 3я силаа...\n",
    "data['first_blood_time'].fillna(0, inplace=True)\n",
    "data['first_blood_team'].fillna(3, inplace=True)\n",
    "data['first_blood_player1'].fillna(10, inplace=True)\n",
    "data['first_blood_player2'].fillna(10, inplace=True)\n",
    "\n",
    "#временные параметры пока просто занулим\n",
    "data['radiant_bottle_time'].fillna(0, inplace=True)\n",
    "data['radiant_courier_time'].fillna(0, inplace=True)\n",
    "data['radiant_flying_courier_time'].fillna(0, inplace=True)\n",
    "data['radiant_first_ward_time'].fillna(0, inplace=True)\n",
    "\n",
    "data['dire_bottle_time'].fillna(0, inplace=True)\n",
    "data['dire_courier_time'].fillna(0, inplace=True)\n",
    "data['dire_flying_courier_time'].fillna(0, inplace=True)\n",
    "data['dire_first_ward_time'].fillna(0, inplace=True)"
   ]
  },
  {
   "cell_type": "markdown",
   "metadata": {},
   "source": [
    "## градиентный бустинг \"в лоб\""
   ]
  },
  {
   "cell_type": "markdown",
   "metadata": {},
   "source": [
    "попробуем обучить градиентный бустинг над деревьями на имеющейся матрице \"объекты-признаки\".<br>\n",
    "обучение градиентного бустинга с проверкой качества на <b>кросс-валидаци по 5 блокам с shuffle=True</b>.\n",
    "Используем в коде метрику качества (<b>AUC-ROC</b>)"
   ]
  },
  {
   "cell_type": "code",
   "execution_count": 44,
   "metadata": {
    "collapsed": false
   },
   "outputs": [],
   "source": [
    "from sklearn.ensemble import GradientBoostingClassifier"
   ]
  },
  {
   "cell_type": "code",
   "execution_count": 57,
   "metadata": {
    "collapsed": true
   },
   "outputs": [],
   "source": [
    "from sklearn.cross_validation import train_test_split\n",
    "from sklearn.metrics import roc_auc_score, log_loss\n",
    "from sklearn.grid_search import GridSearchCV\n",
    "\n",
    "%matplotlib notebook\n",
    "import matplotlib\n",
    "import matplotlib.pyplot as plt\n",
    "from time import time"
   ]
  },
  {
   "cell_type": "markdown",
   "metadata": {},
   "source": [
    "запустим градиентный бустинг \"в лоб\" с 30ю деревьями.\n",
    "Будем оценивать качества алгоритма с помощью кросс-валидации по 5 блоками с shuffle=True"
   ]
  },
  {
   "cell_type": "code",
   "execution_count": 98,
   "metadata": {
    "collapsed": false
   },
   "outputs": [
    {
     "name": "stdout",
     "output_type": "stream",
     "text": [
      "ROC AUC score: 0.689962217707\n",
      "\n",
      "Time elapsed: 190.72\n"
     ]
    }
   ],
   "source": [
    "params={'n_estimators': 30}\n",
    "grd = GradientBoostingClassifier(**params)\n",
    "\n",
    "start_time = time()\n",
    "kf = KFold(len(Y), n_folds=5,shuffle=True,random_state=42)\n",
    "scores = cross_validation.cross_val_score(grd, data, y=Y, cv=kf,scoring ='roc_auc')\n",
    "\n",
    "print 'ROC AUC score:', np.mean(scores)\n",
    "print '\\nTime elapsed:', round(time() - start_time, 2)"
   ]
  },
  {
   "cell_type": "markdown",
   "metadata": {},
   "source": [
    "градиентный бустинг - работает. Попробуем определить отимальные параметры для 30 деревьев"
   ]
  },
  {
   "cell_type": "code",
   "execution_count": 59,
   "metadata": {
    "collapsed": false
   },
   "outputs": [
    {
     "name": "stdout",
     "output_type": "stream",
     "text": [
      "{'max_features': 0.1, 'learning_rate': 0.6, 'max_depth': 3, 'min_samples_leaf': 43}\n",
      "На обучение 24 классификаторов ушло 146.75c\n"
     ]
    }
   ],
   "source": [
    "X_train__, X_test__, y_train__, y_test__ = train_test_split(data, Y, test_size=0.8, random_state=57179)\n",
    "n_estimators = 30\n",
    "param_grid = {'learning_rate': [0.6],\n",
    "              'max_depth': [3, 4],\n",
    "              'min_samples_leaf': [1, 31, 37, 43],\n",
    "              'max_features': [1.0, 0.3, 0.1]\n",
    "              }\n",
    "est = GradientBoostingClassifier(n_estimators=n_estimators, random_state=57179)\n",
    "start_time = time()\n",
    "gs_cv = GridSearchCV(est, param_grid, scoring='roc_auc', n_jobs=2).fit(X_train__, y_train__)\n",
    "print(gs_cv.best_params_)\n",
    "print('На обучение {} классификаторов ушло {:.2f}c'.format(np.prod([len(val) for key, val in param_grid.items()]), \n",
    "                                                           time() - start_time))"
   ]
  },
  {
   "cell_type": "markdown",
   "metadata": {},
   "source": [
    "Попробуем соптимизировать вместе с деревьями"
   ]
  },
  {
   "cell_type": "code",
   "execution_count": 70,
   "metadata": {
    "collapsed": false
   },
   "outputs": [
    {
     "name": "stdout",
     "output_type": "stream",
     "text": [
      "{'max_features': 0.3, 'n_estimators': 50, 'learning_rate': 0.6, 'max_depth': 3, 'min_samples_leaf': 43}\n",
      "На обучение 120 классификаторов ушло 827.19c\n"
     ]
    }
   ],
   "source": [
    "X_train__, X_test__, y_train__, y_test__ = train_test_split(data, Y, test_size=0.8, random_state=57179)\n",
    "n_estimators = 30\n",
    "param_grid = {'learning_rate': [0.6],\n",
    "              'max_depth': [3, 4],\n",
    "              'min_samples_leaf': [1, 31, 37, 43],\n",
    "              'max_features': [1.0, 0.3, 0.1],\n",
    "              'n_estimators': [10,20,30,40,50]\n",
    "              }\n",
    "est = GradientBoostingClassifier(random_state=57179)\n",
    "start_time = time()\n",
    "gs_cv = GridSearchCV(est, param_grid, scoring='roc_auc', n_jobs=2).fit(X_train__, y_train__)\n",
    "print(gs_cv.best_params_)\n",
    "print('На обучение {} классификаторов ушло {:.2f}c'.format(np.prod([len(val) for key, val in param_grid.items()]), \n",
    "                                                           time() - start_time))"
   ]
  },
  {
   "cell_type": "markdown",
   "metadata": {},
   "source": [
    "Обучим заново, классификатор с оптимальными параметрами"
   ]
  },
  {
   "cell_type": "code",
   "execution_count": 81,
   "metadata": {
    "collapsed": false
   },
   "outputs": [
    {
     "name": "stdout",
     "output_type": "stream",
     "text": [
      "ROC AUC score: 0.706129464445\n",
      "\n",
      "Time elapsed: 207.65\n"
     ]
    }
   ],
   "source": [
    "grd = GradientBoostingClassifier(**gs_cv.best_params_)\n",
    "\n",
    "start_time = time()\n",
    "kf = KFold(len(Y), n_folds=5,shuffle=True,random_state=42)\n",
    "scores = cross_validation.cross_val_score(grd, data, y=Y, cv=kf,scoring ='roc_auc')\n",
    "\n",
    "print 'ROC AUC score:', np.mean(scores)\n",
    "print '\\nTime elapsed:', round(time() - start_time, 2)"
   ]
  },
  {
   "cell_type": "markdown",
   "metadata": {},
   "source": [
    "Попробуем посмотреть теперь эти параметры при разных деревьях"
   ]
  },
  {
   "cell_type": "code",
   "execution_count": 82,
   "metadata": {
    "collapsed": false
   },
   "outputs": [
    {
     "name": "stdout",
     "output_type": "stream",
     "text": [
      "{'max_features': 0.3, 'n_estimators': 50, 'learning_rate': 0.6, 'max_depth': 3, 'min_samples_leaf': 43}\n",
      "На обучение 10 классификаторов ушло 217.18c\n"
     ]
    }
   ],
   "source": [
    "X_train__, X_test__, y_train__, y_test__ = train_test_split(data, Y, test_size=0.8, random_state=57179)\n",
    "n_estimators = 30\n",
    "param_grid = {'learning_rate': [0.6],\n",
    "              'max_depth': [3],\n",
    "              'min_samples_leaf': [43],\n",
    "              'max_features': [0.3],\n",
    "              'n_estimators': [10,20,30,40,50,60,70,100,200,500]\n",
    "              }\n",
    "est = GradientBoostingClassifier(random_state=57179)\n",
    "start_time = time()\n",
    "gs_cv = GridSearchCV(est, param_grid, scoring='roc_auc', n_jobs=2).fit(X_train__, y_train__)\n",
    "print(gs_cv.best_params_)\n",
    "print('На обучение {} классификаторов ушло {:.2f}c'.format(np.prod([len(val) for key, val in param_grid.items()]), \n",
    "                                                           time() - start_time))"
   ]
  },
  {
   "cell_type": "markdown",
   "metadata": {},
   "source": [
    "определено, что оптимальный параметр - 50 деревьев.\n",
    "Рассмотрим подробнее"
   ]
  },
  {
   "cell_type": "code",
   "execution_count": 83,
   "metadata": {
    "collapsed": false
   },
   "outputs": [
    {
     "name": "stdout",
     "output_type": "stream",
     "text": [
      "\n",
      "n_estimators 10\n",
      "Time elapsed: 0:00:39.801000\n",
      "0.682456285604\n",
      "\n",
      "n_estimators 20\n",
      "Time elapsed: 0:01:24.850000\n",
      "0.695068808944\n",
      "\n",
      "n_estimators 30\n",
      "Time elapsed: 0:01:59.070000\n",
      "0.700355516472\n",
      "\n",
      "n_estimators 40\n",
      "Time elapsed: 0:02:26.030000\n",
      "0.703371631227\n",
      "\n",
      "n_estimators 50\n",
      "Time elapsed: 0:02:58.321000\n",
      "0.705629521431\n",
      "\n",
      "n_estimators 60\n",
      "Time elapsed: 0:03:34.002000\n",
      "0.706611177424\n",
      "\n",
      "n_estimators 70\n",
      "Time elapsed: 0:04:09.345000\n",
      "0.707380084131\n",
      "\n",
      "n_estimators 100\n",
      "Time elapsed: 0:05:52.742000\n",
      "0.708460205877\n",
      "\n",
      "n_estimators 200\n",
      "Time elapsed: 0:11:40.036000\n",
      "0.708956694738\n",
      "\n",
      "n_estimators 500\n",
      "Time elapsed: 0:29:01.885000\n",
      "0.702203552863\n"
     ]
    }
   ],
   "source": [
    "n_trees=[10,20,30,40,50,60,70,100,200,500]\n",
    "kfold=5\n",
    "\n",
    "for n_tr in n_trees :\n",
    "    print ''\n",
    "    print 'n_estimators',n_tr\n",
    "    params = {'n_estimators': n_tr, \n",
    "              'learning_rate': 0.6,\n",
    "              'max_depth': 3,\n",
    "              'min_samples_leaf': 43,\n",
    "              'max_features': 0.3, 'random_state': 241}\n",
    "    grd = GradientBoostingClassifier(**params)\n",
    "\n",
    "    start_time = datetime.datetime.now()\n",
    "    kf = KFold(len(Y), n_folds=kfold,shuffle=True,random_state=42)\n",
    "    scores = cross_validation.cross_val_score(grd, data, y=Y, cv=kf,scoring ='roc_auc')\n",
    "    #print scores\n",
    "    print 'Time elapsed:', datetime.datetime.now() - start_time\n",
    "    print scores.mean()"
   ]
  },
  {
   "cell_type": "markdown",
   "metadata": {
    "collapsed": true
   },
   "source": [
    "#### Выводы \n",
    "кросс-валидация для градиентного бустинга с 30 деревьями по подсчетам заняла 190.72 с. При этом удалось получилось качество 0.6899\n",
    "\n",
    "В ходе эксперимента были определены оптимальные параметры. Так, эксперимент показал, качество при 50 деревьях - оптимальное.Т.е. при данных условиях удобно использовать 50 деревьев. Однако, при 30 деревьях и при 100 получилось примерно равным. А время не сильно больше. Дальнейшее увеличение количества деревьев приводит к резкому росту времени, но качество правктически не растет\n",
    "Вообще ответ может зависеть от других параметров бустинка(например,от скорости обучения). При learning_rate=1 переобучение начинается как раз около 40-50 деревьев. Однако при learning_rate=0.2 обучение можно производить с пользой и до 300 деревьев.\n",
    "\n",
    "Возможно стоит провести дополнительные исследования и манипуляции, чтобы ускорить обучение при увеличении количества деревьев.\n",
    "Чтобы ускорить обучение, можно:\n",
    "1) манипуляции с параметрами (например с max_features, max_depth и min_samples_leaf).\n",
    "Так в ходе эксперимента показано, что используя параметры {'max_features': 0.1, 'learning_rate': 0.6, 'max_depth': 3, 'min_samples_leaf': 43} можно скорить обучение на четверть, причём повысить его качество до примерно 0.72 \n",
    "2) не производилась никакая обработка признаков. Возможно, количество можно сократить без потери качества\n",
    "3) Сокращение объектов. Подготовка к финальному этапу происходила на сокращенных данных с целью уменьшить время. При этом качество было таким же \n"
   ]
  },
  {
   "cell_type": "markdown",
   "metadata": {},
   "source": [
    "## Подход 2: логистическая регрессия"
   ]
  },
  {
   "cell_type": "markdown",
   "metadata": {},
   "source": [
    "### попытка 2.1: обучение логистической регрессии на полном наборе признаков с проверкой качества на кросс-валидации и подбором оптимального коэффициента регуляризации"
   ]
  },
  {
   "cell_type": "code",
   "execution_count": 86,
   "metadata": {
    "collapsed": true
   },
   "outputs": [],
   "source": [
    "from sklearn.linear_model import LogisticRegression\n",
    "from sklearn.preprocessing import StandardScaler"
   ]
  },
  {
   "cell_type": "markdown",
   "metadata": {},
   "source": [
    "линейные алгоритмы чувствительны к масштабу признаков"
   ]
  },
  {
   "cell_type": "code",
   "execution_count": 87,
   "metadata": {
    "collapsed": false
   },
   "outputs": [],
   "source": [
    "#масштабируем признаки нашей подготовленной выборки\n",
    "data_scale=StandardScaler().fit_transform(data)"
   ]
  },
  {
   "cell_type": "markdown",
   "metadata": {},
   "source": [
    "Оценим качество логистической регрессии с помощью кросс-валидации. Подберем при этом лучший параметр регуляризации (C)"
   ]
  },
  {
   "cell_type": "code",
   "execution_count": 122,
   "metadata": {
    "collapsed": false
   },
   "outputs": [
    {
     "name": "stdout",
     "output_type": "stream",
     "text": [
      "На обучение 21 классификаторов с кросс-валидацией по 5 блокам ушло 213.49c\n"
     ]
    }
   ],
   "source": [
    "cross_val_folder = KFold(data_scale.shape[0], n_folds=5, shuffle=True, random_state=57179)\n",
    "clf = LogisticRegression(penalty='l2', random_state=57179, n_jobs=1)\n",
    "grid = {'C': np.power(10.0**0.333, np.arange(-7*3, 0*3))}\n",
    "searcher = GridSearchCV(clf, grid, scoring='roc_auc', cv=cross_val_folder, n_jobs=1)\n",
    "start_time = time()\n",
    "searcher.fit(data_scale, Y)\n",
    "print('На обучение {} классификаторов с кросс-валидацией по 5 блокам ушло {:.2f}c'.format(len(grid['C']),\n",
    "                                                                                          time() - start_time))\n",
    "scores = np.asarray(sorted([[score.parameters['C'], score.mean_validation_score] for score in searcher.grid_scores_]))\n",
    "n_max = np.argmax(scores[:,1])"
   ]
  },
  {
   "cell_type": "code",
   "execution_count": 123,
   "metadata": {
    "collapsed": false
   },
   "outputs": [
    {
     "name": "stdout",
     "output_type": "stream",
     "text": [
      "лучшее качество AUC_ROC=0.7167 получилось при параметре регуляризации C=0.0047\n"
     ]
    }
   ],
   "source": [
    "print 'лучшее качество AUC_ROC={:.4} получилось при параметре регуляризации C={:.2}'.format(scores[n_max,1], scores[n_max,0])"
   ]
  },
  {
   "cell_type": "markdown",
   "metadata": {},
   "source": [
    "Над всеми признаками в кросс-валидации по пяти блокам с параметром регуляризации C=0.004 получилось качество 0.716. Это немногим больше, чем базовый вариант градиентного бустинга с 30 деревьями\n",
    "Логистическая регрессия работает неплохо потому, что зависимость силы команды в нашей задаче достаточно монотонно зависит от всех некатегориальных признаков и временных параметров, определяющих успешность команды\n",
    "<b>Сравнение логистической регрессии и градиентного бустинга по качеству и времени работы</b>\n",
    "Время выполнения одной кросс-валидации по 5 блокам составило около 14ти секунд. Это примерно в 14 раз быстрее, чем кросс-валидация по 30 деревьям."
   ]
  },
  {
   "cell_type": "code",
   "execution_count": 126,
   "metadata": {
    "collapsed": false
   },
   "outputs": [
    {
     "name": "stdout",
     "output_type": "stream",
     "text": [
      "Time elapsed: 14.5720000267\n",
      "0.716608838087\n"
     ]
    }
   ],
   "source": [
    "# для проверки\n",
    "clf = LogisticRegression(penalty='l2',random_state=57179, C=0.0047, n_jobs=1)\n",
    "start_time = time()\n",
    "kf = KFold(len(Y), n_folds=kfold,shuffle=True,random_state=42)\n",
    "score = cross_validation.cross_val_score(clf, data_scale, Y, cv=kf, n_jobs=1,scoring='roc_auc').mean()\n",
    "print 'Time elapsed:', time() - start_time\n",
    "print score"
   ]
  },
  {
   "cell_type": "markdown",
   "metadata": {},
   "source": [
    "### попытка 2.2: обучение логистической регрессии на числовых признаках с проверкой качества на кросс-валидации"
   ]
  },
  {
   "cell_type": "markdown",
   "metadata": {},
   "source": [
    "Уберем категориальные столбцы"
   ]
  },
  {
   "cell_type": "code",
   "execution_count": 116,
   "metadata": {
    "collapsed": true
   },
   "outputs": [],
   "source": [
    "#Определим колонки, которые принадлежат героям\n",
    "heros_columns = []\n",
    "for r_or_d in ('r', 'd'):\n",
    "    for i in range(1, 6):\n",
    "        heros_columns.append('{}{}_hero'.format(r_or_d, i))"
   ]
  },
  {
   "cell_type": "code",
   "execution_count": 118,
   "metadata": {
    "collapsed": true
   },
   "outputs": [],
   "source": [
    "#выбросим их и еще одну\n",
    "shortdata=data.drop(heros_columns + ['lobby_type'],axis=1)\n",
    "# и сразу масштабируем\n",
    "shortdata_scale=StandardScaler().fit_transform(shortdata)"
   ]
  },
  {
   "cell_type": "code",
   "execution_count": 127,
   "metadata": {
    "collapsed": false
   },
   "outputs": [
    {
     "name": "stdout",
     "output_type": "stream",
     "text": [
      "Time elapsed: 14.4259998798\n",
      "0.716619993175\n"
     ]
    }
   ],
   "source": [
    "clf = LogisticRegression(penalty='l2', C=0.0047)\n",
    "start_time = time()\n",
    "kf = KFold(len(Y), n_folds=kfold,shuffle=True,random_state=42)\n",
    "score = cross_validation.cross_val_score(clf, shortdata_scale, Y, cv=kf, n_jobs=1,scoring='roc_auc').mean()\n",
    "print 'Time elapsed:', time() - start_time\n",
    "print score"
   ]
  },
  {
   "cell_type": "markdown",
   "metadata": {},
   "source": [
    "Незначительно уменьшилось время и выросло качество. Т.е. отсутствие категориальных столбцов практически никак не влияет. Так как значения категориальных признаков бессмысленны в линейном смысле, то их веса были на несколько порядков меньше, поэтому они не оказывали особого влияния на прогноз."
   ]
  },
  {
   "cell_type": "markdown",
   "metadata": {},
   "source": [
    "### Попытка 2.3: обучение логистической регрессии на числовых признаках и признаках \"мешка слов\" с проверкой качества на кросс-валидации"
   ]
  },
  {
   "cell_type": "markdown",
   "metadata": {},
   "source": [
    "Обработаем категориальные признаки: добавим данные о героях"
   ]
  },
  {
   "cell_type": "code",
   "execution_count": 134,
   "metadata": {
    "collapsed": false
   },
   "outputs": [
    {
     "name": "stdout",
     "output_type": "stream",
     "text": [
      "Встречающиеся герои: [1, 2, 3, 4, 5, 6, 7, 8, 9, 10, 11, 12, 13, 14, 15, 16, 17, 18, 19, 20, 21, 22, 23, 25, 26, 27, 28, 29, 30, 31, 32, 33, 34, 35, 36, 37, 38, 39, 40, 41, 42, 43, 44, 45, 46, 47, 48, 49, 50, 51, 52, 53, 54, 55, 56, 57, 58, 59, 60, 61, 62, 63, 64, 65, 66, 67, 68, 69, 70, 71, 72, 73, 74, 75, 76, 77, 78, 79, 80, 81, 82, 83, 84, 85, 86, 87, 88, 89, 90, 91, 92, 93, 94, 95, 96, 97, 98, 99, 100, 101, 102, 103, 104, 105, 106, 109, 110, 112]\n",
      "Пропущенные герои из диапазона: set([24, 107, 108, 111])\n",
      "Длина диапазона: 112\n",
      "Разных героев замечено: 108\n"
     ]
    }
   ],
   "source": [
    "herodata=data[heros_columns]\n",
    "heroes = set(pd.unique(data[heros_columns].unstack()))\n",
    "heroes |= set(pd.unique(X_test[heros_columns].unstack()))\n",
    "\n",
    "print 'Встречающиеся герои:', sorted(heroes)\n",
    "print 'Пропущенные герои из диапазона:', set(range(min(heroes), max(heroes)+1)) - heroes\n",
    "print 'Длина диапазона:', len(list(range(min(heroes), max(heroes)+1)))\n",
    "print 'Разных героев замечено:', len(heroes)"
   ]
  },
  {
   "cell_type": "markdown",
   "metadata": {},
   "source": [
    "число уникальных героев - 108. Также можно убедиться, что всего их 112 (воспользоваться словарем героев).  Значит некоторые никогда не используются"
   ]
  },
  {
   "cell_type": "code",
   "execution_count": 136,
   "metadata": {
    "collapsed": false
   },
   "outputs": [],
   "source": [
    "# введем соответствие номеру героя номера столбца, чтобы правильно формировать мешок\n",
    "d = dict(zip(heroes,range(len(heroes))))"
   ]
  },
  {
   "cell_type": "code",
   "execution_count": 138,
   "metadata": {
    "collapsed": false
   },
   "outputs": [],
   "source": [
    "#формируем мешок слов\n",
    "X_pick = np.zeros((data.shape[0], len(heroes)))\n",
    "\n",
    "for i, match_id in enumerate(data.index):\n",
    "    for p in xrange(5):\n",
    "        #print d[data.ix[match_id, 'r%d_hero' % (p+1)]-1\n",
    "        X_pick[i, d[data.ix[match_id, 'r%d_hero' % (p+1)]]] = 1\n",
    "        X_pick[i, d[data.ix[match_id, 'd%d_hero' % (p+1)]]] = -1"
   ]
  },
  {
   "cell_type": "code",
   "execution_count": 139,
   "metadata": {
    "collapsed": true
   },
   "outputs": [],
   "source": [
    "# клеим данные\n",
    "finaldata=np.concatenate([X_pick, shortdata_scale], axis=1)"
   ]
  },
  {
   "cell_type": "code",
   "execution_count": 140,
   "metadata": {
    "collapsed": false
   },
   "outputs": [
    {
     "name": "stdout",
     "output_type": "stream",
     "text": [
      "Time elapsed: 19.8729999065\n",
      "0.751176333232\n"
     ]
    }
   ],
   "source": [
    "clf = LogisticRegression(penalty='l2', C=0.0047)\n",
    "start_time = time()\n",
    "kf = KFold(len(Y), n_folds=kfold,shuffle=True,random_state=42)\n",
    "score = cross_validation.cross_val_score(clf, finaldata, Y, cv=kf, n_jobs=1,scoring='roc_auc').mean()\n",
    "print 'Time elapsed:', time() - start_time\n",
    "print score"
   ]
  },
  {
   "cell_type": "markdown",
   "metadata": {},
   "source": [
    "Качество заметно возросло. Это объясняется адеккватным учетом категориальных признаков, т.к. конкретные герои действительно важны. "
   ]
  },
  {
   "cell_type": "code",
   "execution_count": 141,
   "metadata": {
    "collapsed": false
   },
   "outputs": [
    {
     "name": "stdout",
     "output_type": "stream",
     "text": [
      "На обучение 21 классификаторов с кросс-валидацией по 5 блокам ушло 298.88c\n"
     ]
    }
   ],
   "source": [
    "# определим оптимальные праметры еще раз на новых данных\n",
    "cross_val_folder = KFold(data_scale.shape[0], n_folds=5, shuffle=True, random_state=57179)\n",
    "clf = LogisticRegression(penalty='l2', random_state=57179, n_jobs=1)\n",
    "grid = {'C': np.power(10.0**0.333, np.arange(-7*3, 0*3))}\n",
    "searcher = GridSearchCV(clf, grid, scoring='roc_auc', cv=cross_val_folder, n_jobs=1)\n",
    "start_time = time()\n",
    "searcher.fit(finaldata, Y)\n",
    "print('На обучение {} классификаторов с кросс-валидацией по 5 блокам ушло {:.2f}c'.format(len(grid['C']),\n",
    "                                                                                          time() - start_time))\n",
    "scores = np.asarray(sorted([[score.parameters['C'], score.mean_validation_score] for score in searcher.grid_scores_]))\n",
    "n_max = np.argmax(scores[:,1])"
   ]
  },
  {
   "cell_type": "code",
   "execution_count": 142,
   "metadata": {
    "collapsed": false
   },
   "outputs": [
    {
     "name": "stdout",
     "output_type": "stream",
     "text": [
      "лучшее качество AUC_ROC=0.752 получилось при параметре регуляризации C=0.047\n"
     ]
    }
   ],
   "source": [
    "print 'лучшее качество AUC_ROC={:.4} получилось при параметре регуляризации C={:.2}'.format(scores[n_max,1], scores[n_max,0])"
   ]
  },
  {
   "cell_type": "markdown",
   "metadata": {},
   "source": [
    "## Построение предсказания"
   ]
  },
  {
   "cell_type": "markdown",
   "metadata": {},
   "source": [
    "Построим предсказания вероятностей победы команды Radiant для тестовой выборки с помощью ллучшей с точки зрения AUC-ROC на кросс-валидации модели.<br>\n",
    "ROC AUC score лучшего Градиентного бустинга: 0.706<br>\n",
    "ROC AUC score лучшей Логистической регресси: 0.752<br>\n",
    "<br>\n",
    "В нашем случае будем использовать логистическую регрессию при параметре регуляризации C=0.047"
   ]
  },
  {
   "cell_type": "code",
   "execution_count": 143,
   "metadata": {
    "collapsed": true
   },
   "outputs": [],
   "source": [
    " C=0.047"
   ]
  },
  {
   "cell_type": "markdown",
   "metadata": {},
   "source": [
    "### Предобработка тестовой выборки X_test"
   ]
  },
  {
   "cell_type": "code",
   "execution_count": 144,
   "metadata": {
    "collapsed": true
   },
   "outputs": [],
   "source": [
    "Xt=X_test.drop(heros_columns + ['lobby_type'],axis=1)"
   ]
  },
  {
   "cell_type": "code",
   "execution_count": 145,
   "metadata": {
    "collapsed": true
   },
   "outputs": [],
   "source": [
    "#предполагаем, что если никто не сделал FB то его сделала некая 3я силаа...\n",
    "Xt['first_blood_time'].fillna(0, inplace=True)\n",
    "Xt['first_blood_team'].fillna(3, inplace=True)\n",
    "Xt['first_blood_player1'].fillna(10, inplace=True)\n",
    "Xt['first_blood_player2'].fillna(10, inplace=True)\n",
    "\n",
    "#временные параметры пока просто занулим\n",
    "Xt['radiant_bottle_time'].fillna(0, inplace=True)\n",
    "Xt['radiant_courier_time'].fillna(0, inplace=True)\n",
    "Xt['radiant_flying_courier_time'].fillna(0, inplace=True)\n",
    "Xt['radiant_first_ward_time'].fillna(0, inplace=True)\n",
    "\n",
    "Xt['dire_bottle_time'].fillna(0, inplace=True)\n",
    "Xt['dire_courier_time'].fillna(0, inplace=True)\n",
    "Xt['dire_flying_courier_time'].fillna(0, inplace=True)\n",
    "Xt['dire_first_ward_time'].fillna(0, inplace=True)"
   ]
  },
  {
   "cell_type": "code",
   "execution_count": 146,
   "metadata": {
    "collapsed": true
   },
   "outputs": [],
   "source": [
    "Xt_scale=StandardScaler().fit_transform(Xt)"
   ]
  },
  {
   "cell_type": "code",
   "execution_count": 147,
   "metadata": {
    "collapsed": true
   },
   "outputs": [],
   "source": [
    "Xt_pick = np.zeros((X_test.shape[0], len(heroes)))\n",
    "\n",
    "for i, match_id in enumerate(X_test.index):\n",
    "    for p in xrange(5):\n",
    "        Xt_pick[i, d[X_test.ix[match_id, 'r%d_hero' % (p+1)]]] = 1\n",
    "        Xt_pick[i, d[X_test.ix[match_id, 'd%d_hero' % (p+1)]]] = -1"
   ]
  },
  {
   "cell_type": "code",
   "execution_count": 148,
   "metadata": {
    "collapsed": true
   },
   "outputs": [],
   "source": [
    "TestData_fin=np.concatenate([Xt_pick, Xt_scale], axis=1)"
   ]
  },
  {
   "cell_type": "markdown",
   "metadata": {},
   "source": [
    "## Предсказание победителя игры"
   ]
  },
  {
   "cell_type": "code",
   "execution_count": 149,
   "metadata": {
    "collapsed": false
   },
   "outputs": [
    {
     "name": "stdout",
     "output_type": "stream",
     "text": [
      "На обучение  ушло 8.27c\n"
     ]
    }
   ],
   "source": [
    "#обучаем наш оптимальный классификатор\n",
    "clf = LogisticRegression(C=C,penalty='l2', random_state=57179, n_jobs=1)\n",
    "start_time = time()\n",
    "clf.fit(finaldata, Y)\n",
    "print('На обучение  ушло {:.2f}c'.format(time() - start_time))\n",
    "\n"
   ]
  },
  {
   "cell_type": "markdown",
   "metadata": {},
   "source": [
    "Строим финальные предсказания с помощью функции <b>predict_proba</b>(то есть вычисляем оценки принадлежности классам)"
   ]
  },
  {
   "cell_type": "code",
   "execution_count": 153,
   "metadata": {
    "collapsed": true
   },
   "outputs": [],
   "source": [
    "y_pred = clf.predict_proba(TestData_fin)[:, 1]"
   ]
  },
  {
   "cell_type": "code",
   "execution_count": 196,
   "metadata": {
    "collapsed": false
   },
   "outputs": [
    {
     "name": "stdout",
     "output_type": "stream",
     "text": [
      "Какое минимальное и максимальное значение прогноза на тестовой выборке получилось у лучшего из алгоритмов?\n",
      "0.00847951222194 0.996437272037\n"
     ]
    }
   ],
   "source": [
    "print \"Какое минимальное и максимальное значение прогноза на тестовой выборке получилось у лучшего из алгоритмов?\"\n",
    "print np.min(y_pred),np.max(y_pred)"
   ]
  },
  {
   "cell_type": "markdown",
   "metadata": {},
   "source": [
    "Сформируем массив данных для Kaggle"
   ]
  },
  {
   "cell_type": "code",
   "execution_count": 174,
   "metadata": {
    "collapsed": false
   },
   "outputs": [],
   "source": [
    "ans = pd.DataFrame(y_pred,  columns=['radiant_win'])\n",
    "Mid= pd.DataFrame(X_test.axes[0],  columns=['match_id'])\n",
    "fin=Mid.join(ans, how='left')"
   ]
  },
  {
   "cell_type": "code",
   "execution_count": 194,
   "metadata": {
    "collapsed": false
   },
   "outputs": [
    {
     "data": {
      "text/html": [
       "<div>\n",
       "<table border=\"1\" class=\"dataframe\">\n",
       "  <thead>\n",
       "    <tr style=\"text-align: right;\">\n",
       "      <th></th>\n",
       "      <th>match_id</th>\n",
       "      <th>radiant_win</th>\n",
       "    </tr>\n",
       "  </thead>\n",
       "  <tbody>\n",
       "    <tr>\n",
       "      <th>0</th>\n",
       "      <td>6</td>\n",
       "      <td>0.825655</td>\n",
       "    </tr>\n",
       "    <tr>\n",
       "      <th>1</th>\n",
       "      <td>7</td>\n",
       "      <td>0.761304</td>\n",
       "    </tr>\n",
       "    <tr>\n",
       "      <th>2</th>\n",
       "      <td>10</td>\n",
       "      <td>0.193171</td>\n",
       "    </tr>\n",
       "    <tr>\n",
       "      <th>3</th>\n",
       "      <td>13</td>\n",
       "      <td>0.866309</td>\n",
       "    </tr>\n",
       "    <tr>\n",
       "      <th>4</th>\n",
       "      <td>16</td>\n",
       "      <td>0.246961</td>\n",
       "    </tr>\n",
       "  </tbody>\n",
       "</table>\n",
       "</div>"
      ],
      "text/plain": [
       "   match_id  radiant_win\n",
       "0         6     0.825655\n",
       "1         7     0.761304\n",
       "2        10     0.193171\n",
       "3        13     0.866309\n",
       "4        16     0.246961"
      ]
     },
     "execution_count": 194,
     "metadata": {},
     "output_type": "execute_result"
    }
   ],
   "source": [
    "fin.head()"
   ]
  },
  {
   "cell_type": "markdown",
   "metadata": {},
   "source": [
    "Сравнение минимального и максимального значений вероятности и вид списка ответов показывают, что\n",
    "1) вероятности разные\n",
    "2) на интервале [0,1]"
   ]
  },
  {
   "cell_type": "code",
   "execution_count": 195,
   "metadata": {
    "collapsed": true
   },
   "outputs": [],
   "source": [
    "fin.to_csv('kaglle.csv', sep=',', header=True, index=False)"
   ]
  }
 ],
 "metadata": {
  "kernelspec": {
   "display_name": "Python 2",
   "language": "python",
   "name": "python2"
  },
  "language_info": {
   "codemirror_mode": {
    "name": "ipython",
    "version": 2
   },
   "file_extension": ".py",
   "mimetype": "text/x-python",
   "name": "python",
   "nbconvert_exporter": "python",
   "pygments_lexer": "ipython2",
   "version": "2.7.11"
  }
 },
 "nbformat": 4,
 "nbformat_minor": 0
}
