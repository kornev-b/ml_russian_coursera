{
 "cells": [
  {
   "cell_type": "markdown",
   "metadata": {},
   "source": [
    "# Подход 1: градиентный бустинг \"в лоб\""
   ]
  },
  {
   "cell_type": "code",
   "execution_count": 1,
   "metadata": {
    "collapsed": false
   },
   "outputs": [
    {
     "data": {
      "text/html": [
       "<div>\n",
       "<table border=\"1\" class=\"dataframe\">\n",
       "  <thead>\n",
       "    <tr style=\"text-align: right;\">\n",
       "      <th></th>\n",
       "      <th>start_time</th>\n",
       "      <th>lobby_type</th>\n",
       "      <th>r1_hero</th>\n",
       "      <th>r1_level</th>\n",
       "      <th>r1_xp</th>\n",
       "      <th>r1_gold</th>\n",
       "      <th>r1_lh</th>\n",
       "      <th>r1_kills</th>\n",
       "      <th>r1_deaths</th>\n",
       "      <th>r1_items</th>\n",
       "      <th>...</th>\n",
       "      <th>dire_boots_count</th>\n",
       "      <th>dire_ward_observer_count</th>\n",
       "      <th>dire_ward_sentry_count</th>\n",
       "      <th>dire_first_ward_time</th>\n",
       "      <th>duration</th>\n",
       "      <th>radiant_win</th>\n",
       "      <th>tower_status_radiant</th>\n",
       "      <th>tower_status_dire</th>\n",
       "      <th>barracks_status_radiant</th>\n",
       "      <th>barracks_status_dire</th>\n",
       "    </tr>\n",
       "    <tr>\n",
       "      <th>match_id</th>\n",
       "      <th></th>\n",
       "      <th></th>\n",
       "      <th></th>\n",
       "      <th></th>\n",
       "      <th></th>\n",
       "      <th></th>\n",
       "      <th></th>\n",
       "      <th></th>\n",
       "      <th></th>\n",
       "      <th></th>\n",
       "      <th></th>\n",
       "      <th></th>\n",
       "      <th></th>\n",
       "      <th></th>\n",
       "      <th></th>\n",
       "      <th></th>\n",
       "      <th></th>\n",
       "      <th></th>\n",
       "      <th></th>\n",
       "      <th></th>\n",
       "      <th></th>\n",
       "    </tr>\n",
       "  </thead>\n",
       "  <tbody>\n",
       "    <tr>\n",
       "      <th>0</th>\n",
       "      <td>1430198770</td>\n",
       "      <td>7</td>\n",
       "      <td>11</td>\n",
       "      <td>5</td>\n",
       "      <td>2098</td>\n",
       "      <td>1489</td>\n",
       "      <td>20</td>\n",
       "      <td>0</td>\n",
       "      <td>0</td>\n",
       "      <td>7</td>\n",
       "      <td>...</td>\n",
       "      <td>4</td>\n",
       "      <td>2</td>\n",
       "      <td>2</td>\n",
       "      <td>-52</td>\n",
       "      <td>2874</td>\n",
       "      <td>1</td>\n",
       "      <td>1796</td>\n",
       "      <td>0</td>\n",
       "      <td>51</td>\n",
       "      <td>0</td>\n",
       "    </tr>\n",
       "    <tr>\n",
       "      <th>1</th>\n",
       "      <td>1430220345</td>\n",
       "      <td>0</td>\n",
       "      <td>42</td>\n",
       "      <td>4</td>\n",
       "      <td>1188</td>\n",
       "      <td>1033</td>\n",
       "      <td>9</td>\n",
       "      <td>0</td>\n",
       "      <td>1</td>\n",
       "      <td>12</td>\n",
       "      <td>...</td>\n",
       "      <td>4</td>\n",
       "      <td>3</td>\n",
       "      <td>1</td>\n",
       "      <td>-5</td>\n",
       "      <td>2463</td>\n",
       "      <td>1</td>\n",
       "      <td>1974</td>\n",
       "      <td>0</td>\n",
       "      <td>63</td>\n",
       "      <td>1</td>\n",
       "    </tr>\n",
       "    <tr>\n",
       "      <th>2</th>\n",
       "      <td>1430227081</td>\n",
       "      <td>7</td>\n",
       "      <td>33</td>\n",
       "      <td>4</td>\n",
       "      <td>1319</td>\n",
       "      <td>1270</td>\n",
       "      <td>22</td>\n",
       "      <td>0</td>\n",
       "      <td>0</td>\n",
       "      <td>12</td>\n",
       "      <td>...</td>\n",
       "      <td>4</td>\n",
       "      <td>3</td>\n",
       "      <td>1</td>\n",
       "      <td>13</td>\n",
       "      <td>2130</td>\n",
       "      <td>0</td>\n",
       "      <td>0</td>\n",
       "      <td>1830</td>\n",
       "      <td>0</td>\n",
       "      <td>63</td>\n",
       "    </tr>\n",
       "    <tr>\n",
       "      <th>3</th>\n",
       "      <td>1430263531</td>\n",
       "      <td>1</td>\n",
       "      <td>29</td>\n",
       "      <td>4</td>\n",
       "      <td>1779</td>\n",
       "      <td>1056</td>\n",
       "      <td>14</td>\n",
       "      <td>0</td>\n",
       "      <td>0</td>\n",
       "      <td>5</td>\n",
       "      <td>...</td>\n",
       "      <td>4</td>\n",
       "      <td>2</td>\n",
       "      <td>0</td>\n",
       "      <td>27</td>\n",
       "      <td>1459</td>\n",
       "      <td>0</td>\n",
       "      <td>1920</td>\n",
       "      <td>2047</td>\n",
       "      <td>50</td>\n",
       "      <td>63</td>\n",
       "    </tr>\n",
       "    <tr>\n",
       "      <th>4</th>\n",
       "      <td>1430282290</td>\n",
       "      <td>7</td>\n",
       "      <td>13</td>\n",
       "      <td>4</td>\n",
       "      <td>1431</td>\n",
       "      <td>1090</td>\n",
       "      <td>8</td>\n",
       "      <td>1</td>\n",
       "      <td>0</td>\n",
       "      <td>8</td>\n",
       "      <td>...</td>\n",
       "      <td>3</td>\n",
       "      <td>3</td>\n",
       "      <td>0</td>\n",
       "      <td>-16</td>\n",
       "      <td>2449</td>\n",
       "      <td>0</td>\n",
       "      <td>4</td>\n",
       "      <td>1974</td>\n",
       "      <td>3</td>\n",
       "      <td>63</td>\n",
       "    </tr>\n",
       "  </tbody>\n",
       "</table>\n",
       "<p>5 rows × 108 columns</p>\n",
       "</div>"
      ],
      "text/plain": [
       "          start_time  lobby_type  r1_hero  r1_level  r1_xp  r1_gold  r1_lh  \\\n",
       "match_id                                                                     \n",
       "0         1430198770           7       11         5   2098     1489     20   \n",
       "1         1430220345           0       42         4   1188     1033      9   \n",
       "2         1430227081           7       33         4   1319     1270     22   \n",
       "3         1430263531           1       29         4   1779     1056     14   \n",
       "4         1430282290           7       13         4   1431     1090      8   \n",
       "\n",
       "          r1_kills  r1_deaths  r1_items          ...           \\\n",
       "match_id                                         ...            \n",
       "0                0          0         7          ...            \n",
       "1                0          1        12          ...            \n",
       "2                0          0        12          ...            \n",
       "3                0          0         5          ...            \n",
       "4                1          0         8          ...            \n",
       "\n",
       "          dire_boots_count  dire_ward_observer_count  dire_ward_sentry_count  \\\n",
       "match_id                                                                       \n",
       "0                        4                         2                       2   \n",
       "1                        4                         3                       1   \n",
       "2                        4                         3                       1   \n",
       "3                        4                         2                       0   \n",
       "4                        3                         3                       0   \n",
       "\n",
       "          dire_first_ward_time  duration  radiant_win  tower_status_radiant  \\\n",
       "match_id                                                                      \n",
       "0                          -52      2874            1                  1796   \n",
       "1                           -5      2463            1                  1974   \n",
       "2                           13      2130            0                     0   \n",
       "3                           27      1459            0                  1920   \n",
       "4                          -16      2449            0                     4   \n",
       "\n",
       "          tower_status_dire  barracks_status_radiant  barracks_status_dire  \n",
       "match_id                                                                    \n",
       "0                         0                       51                     0  \n",
       "1                         0                       63                     1  \n",
       "2                      1830                        0                    63  \n",
       "3                      2047                       50                    63  \n",
       "4                      1974                        3                    63  \n",
       "\n",
       "[5 rows x 108 columns]"
      ]
     },
     "execution_count": 1,
     "metadata": {},
     "output_type": "execute_result"
    }
   ],
   "source": [
    "import pandas as pd\n",
    "import numpy as np\n",
    "from sklearn import cross_validation, ensemble, metrics\n",
    "import time\n",
    "import datetime\n",
    "\n",
    "# 1.1 Считайте таблицу с признаками из файла features.csv с помощью кода, приведенного выше. Удалите признаки, \n",
    "#     cвязанные с итогами матча (они помечены в описании данных как отсутствующие в тестовой выборке).\n",
    "features = pd.read_csv(r'C:\\temp\\features.csv', index_col='match_id')\n",
    "features.head()"
   ]
  },
  {
   "cell_type": "code",
   "execution_count": 2,
   "metadata": {
    "collapsed": true
   },
   "outputs": [],
   "source": [
    "# Удаляем признаки, которых нет в тестовой выборке данных\n",
    "# duration, tower_status_radiant, tower_status_dire, barracks_status_radiant, barracks_status_dire\n",
    "featuresAdapted = features.drop(['duration','tower_status_radiant',\n",
    "                          'tower_status_dire','barracks_status_radiant',\n",
    "                          'barracks_status_dire'], axis = 1)"
   ]
  },
  {
   "cell_type": "code",
   "execution_count": 3,
   "metadata": {
    "collapsed": false
   },
   "outputs": [
    {
     "data": {
      "text/plain": [
       "first_blood_time               77677\n",
       "first_blood_team               77677\n",
       "first_blood_player1            77677\n",
       "first_blood_player2            53243\n",
       "radiant_bottle_time            81539\n",
       "radiant_courier_time           96538\n",
       "radiant_flying_courier_time    69751\n",
       "radiant_first_ward_time        95394\n",
       "dire_bottle_time               81087\n",
       "dire_courier_time              96554\n",
       "dire_flying_courier_time       71132\n",
       "dire_first_ward_time           95404\n",
       "dtype: int64"
      ]
     },
     "execution_count": 3,
     "metadata": {},
     "output_type": "execute_result"
    }
   ],
   "source": [
    "# 1.2 Проверьте выборку на наличие пропусков с помощью функции count(), которая для каждого столбца показывает число \n",
    "#     заполненных значений. Много ли пропусков в данных? Запишите названия признаков, имеющих пропуски, и попробуйте \n",
    "#     для любых двух из них дать обоснование, почему их значения могут быть пропущены.\n",
    "features_uncompleted = featuresAdapted.count()\n",
    "features_uncompleted[features_uncompleted < featuresAdapted['start_time'].size]"
   ]
  },
  {
   "cell_type": "markdown",
   "metadata": {},
   "source": [
    "Пропуски в столбце 'first_blood_time' могут быть объяснены тем, что очень низка вероятность в течение первых пяти минут убить вражеского героя.\n",
    "Пропуски в столбце 'radiant_courier_time' объясняются тем, что маловероятно, что какой-то игрок может сделать за первые 5 минут покупку предмета courier."
   ]
  },
  {
   "cell_type": "code",
   "execution_count": 4,
   "metadata": {
    "collapsed": false
   },
   "outputs": [
    {
     "data": {
      "text/plain": [
       "Series([], dtype: int64)"
      ]
     },
     "execution_count": 4,
     "metadata": {},
     "output_type": "execute_result"
    }
   ],
   "source": [
    "# 1.3 Замените пропуски на нули с помощью функции fillna().\n",
    "featuresAdapted.fillna(0, inplace=True)\n",
    "\n",
    "features_uncompleted = featuresAdapted.count()\n",
    "features_uncompleted[features_uncompleted < featuresAdapted['start_time'].size]"
   ]
  },
  {
   "cell_type": "markdown",
   "metadata": {
    "collapsed": true
   },
   "source": [
    "### 2 Как называется столбец, содержащий целевую переменную?\n",
    "\n",
    "Столбец, содержащий целевую переменную, - это radiant_win, т.к. содержит информацию о том, какая из команд победила в этой игре, что и составляет задачу данного задания."
   ]
  },
  {
   "cell_type": "code",
   "execution_count": 5,
   "metadata": {
    "collapsed": true
   },
   "outputs": [],
   "source": [
    "# Подготовим столбец с целевой переменной и матрицу признаков\n",
    "targetColumn = featuresAdapted.radiant_win.values\n",
    "featuresAdapted.drop('radiant_win', axis = 1, inplace = True)\n",
    "featuresMatrix = featuresAdapted.as_matrix()"
   ]
  },
  {
   "cell_type": "markdown",
   "metadata": {},
   "source": [
    "## Градиентный бустинг"
   ]
  },
  {
   "cell_type": "code",
   "execution_count": 6,
   "metadata": {
    "collapsed": false
   },
   "outputs": [
    {
     "name": "stdout",
     "output_type": "stream",
     "text": [
      "0.1 10 0:00:45.295000 0.648783745881\n",
      "0.1 20 0:01:28.790000 0.67342168366\n",
      "0.1 30 0:02:15.077000 0.682421704838\n",
      "0.1 40 0:03:01.646000 0.687770411906\n",
      "0.1 50 0:03:47.675000 0.691396591851\n",
      "0.2 10 0:00:47.491000 0.666617456668\n",
      "0.2 20 0:01:32.953000 0.684813025173\n",
      "0.2 30 0:02:20.297000 0.691997080521\n",
      "0.2 40 0:03:05.182000 0.696549177931\n",
      "0.2 50 0:03:54.376000 0.699819478408\n",
      "0.3 10 0:00:47.376000 0.677094863854\n",
      "0.3 20 0:01:33.274000 0.691088495322\n",
      "0.3 30 0:02:20.306000 0.697190157051\n",
      "0.3 40 0:03:06.463000 0.701168752079\n",
      "0.3 50 0:03:53.762000 0.704265247283\n",
      "0.5 10 0:00:47.737000 0.678461991332\n",
      "0.5 20 0:01:33.912000 0.69228652845\n",
      "0.5 30 0:02:20.600000 0.69961241769\n",
      "0.5 40 0:03:06.866000 0.703299058399\n",
      "0.5 50 0:03:52.526000 0.705833859529\n",
      "1 10 0:00:47.301000 0.680372014065\n",
      "1 20 0:01:33.620000 0.69383956825\n",
      "1 30 0:02:19.404000 0.697884462539\n",
      "1 40 0:03:08.229000 0.700977674025\n",
      "1 50 0:03:51.290000 0.70387557812\n"
     ]
    }
   ],
   "source": [
    "treeQtys = [10, 20, 30, 40, 50]\n",
    "learningRts = [0.1, 0.2, 0.3, 0.5, 1]\n",
    "precisions = []\n",
    "\n",
    "timeElapsed = []\n",
    "\n",
    "for lr in learningRts:\n",
    "    for tq in treeQtys:\n",
    "        kF = cross_validation.KFold(len(targetColumn), n_folds = 5, shuffle = True, random_state = 42)\n",
    "        gBC = ensemble.GradientBoostingClassifier(n_estimators = tq, learning_rate = lr, max_depth = 2, random_state = 241)\n",
    "\n",
    "        startTime = datetime.datetime.now()\n",
    "        \n",
    "        scoreMean = cross_validation.cross_val_score(gBC, featuresMatrix, targetColumn, scoring = 'roc_auc', cv = kF).mean()\n",
    "        \n",
    "        elapsedTime = datetime.datetime.now() - startTime\n",
    "        print lr, tq, elapsedTime, scoreMean\n",
    "        # только для 0.1\n",
    "        if lr == learningRts[0]:\n",
    "            timeElapsed.append(elapsedTime.total_seconds())\n",
    "        \n",
    "        precisions.append(scoreMean)"
   ]
  },
  {
   "cell_type": "code",
   "execution_count": 8,
   "metadata": {
    "collapsed": false
   },
   "outputs": [
    {
     "data": {
      "image/png": "[encoded data removed]",
      "text/plain": [
       "<matplotlib.figure.Figure at 0x14fd0cb0>"
      ]
     },
     "metadata": {},
     "output_type": "display_data"
    }
   ],
   "source": [
    "import matplotlib.pyplot as plt\n",
    "%matplotlib inline\n",
    "\n",
    "def plot(xLabel, yLabel, x, y):\n",
    "    fig = plt.figure()\n",
    "\n",
    "    plt.plot(x, y)\n",
    "    \n",
    "    plt.xlabel(xLabel)\n",
    "    plt.ylabel(yLabel)\n",
    "    \n",
    "    plt.show()\n",
    "\n",
    "plot('Trees Quantities', 'Execution time', treeQtys, timeElapsed)"
   ]
  },
  {
   "cell_type": "markdown",
   "metadata": {},
   "source": [
    "### 3 Как долго проводилась кросс-валидация для градиентного бустинга с 30 деревьями? Какое качество при этом получилось?"
   ]
  },
  {
   "cell_type": "markdown",
   "metadata": {},
   "source": [
    "Время валидации зависит от количества деревьев, но слабо от скорости обучения. Есть также зависимость от производительности процессора и других параллельных вычислительных процессов. Но в среднем время валидации для 30 деревьев составило около 2 минут и 30 секунд. Глубина деревьев 2, при увеличении глубины время существенно растет.\n",
    "\n",
    "Качество растет при увеличени скорости обучение, но незначительно от 0.68 до 0.70."
   ]
  },
  {
   "cell_type": "markdown",
   "metadata": {},
   "source": [
    "### 4 Имеет ли смысл использовать больше 30 деревьев в градиентном бустинге? Что бы вы предложили делать, чтобы ускорить его обучение при увеличении количества деревьев?"
   ]
  },
  {
   "cell_type": "markdown",
   "metadata": {},
   "source": [
    "С увеличением числа деревьев время обучение и валидации растет близко к линейному закону, в том время как точность увеличивается несущественно во втором знаке после запятой. Для ускорения обучения можно уменьшить или объединить часть признаков и ограничить глубину деревьев 2."
   ]
  },
  {
   "cell_type": "markdown",
   "metadata": {},
   "source": [
    "# Подход 2: логистическая регрессия"
   ]
  },
  {
   "cell_type": "code",
   "execution_count": 6,
   "metadata": {
    "collapsed": false
   },
   "outputs": [],
   "source": [
    "# 2.1 Оцените качество логистической регрессии (sklearn.linear_model.LogisticRegression с L2-регуляризацией) \n",
    "#     с помощью кросс-валидации по той же схеме, которая использовалась для градиентного бустинга. Подберите \n",
    "#     при этом лучший параметр регуляризации (C). Какое наилучшее качество у вас получилось? Как оно соотносится \n",
    "#     с качеством градиентного бустинга? Чем вы можете объяснить эту разницу? Быстрее ли работает логистическая \n",
    "#     регрессия по сравнению с градиентным бустингом?\n",
    "\n",
    "from sklearn.linear_model import LogisticRegression\n",
    "from sklearn import preprocessing\n",
    "\n",
    "def findBestCForLR(cs, features, target):\n",
    "    \n",
    "    scores = []\n",
    "    elapsed = []\n",
    "    \n",
    "    bestC = -1000\n",
    "    maxScore = -1000\n",
    "    for c in cs:\n",
    "        kF = cross_validation.KFold(len(target), n_folds = 5, shuffle = True, random_state = 241)\n",
    "        lRC = LogisticRegression(C = c)\n",
    "        \n",
    "        startTime = datetime.datetime.now()\n",
    "        \n",
    "        scoreMean = cross_validation.cross_val_score(lRC, features, target, scoring = 'roc_auc', cv = kF).mean()\n",
    "        \n",
    "        time = datetime.datetime.now() - startTime\n",
    "        elapsed.append(time.total_seconds())\n",
    "        \n",
    "        scores.append(scoreMean)\n",
    "                 \n",
    "        if scoreMean > maxScore:\n",
    "            maxScore = scoreMean\n",
    "            bestC = c\n",
    "            \n",
    "    return [bestC, elapsed, scores]\n",
    "\n",
    "cs = [1e-4, 1e-3, 1e-2, 1e-1, 1, 10, 100, 1000]"
   ]
  },
  {
   "cell_type": "code",
   "execution_count": 12,
   "metadata": {
    "collapsed": false
   },
   "outputs": [
    {
     "data": {
      "image/png": "[encoded data removed]",
      "text/plain": [
       "<matplotlib.figure.Figure at 0x16c73d70>"
      ]
     },
     "metadata": {},
     "output_type": "display_data"
    },
    {
     "data": {
      "image/png": "[encoded data removed]",
      "text/plain": [
       "<matplotlib.figure.Figure at 0x15a153b0>"
      ]
     },
     "metadata": {},
     "output_type": "display_data"
    },
    {
     "name": "stdout",
     "output_type": "stream",
     "text": [
      "Лучший С = 0.01\n",
      "Max качество = 0.716341465365\n",
      "Min качество = 0.711250115451\n"
     ]
    }
   ],
   "source": [
    "scaledFeatures = preprocessing.scale(featuresMatrix)\n",
    "bestC, time, scores = findBestCForLR(cs, scaledFeatures, targetColumn)\n",
    "\n",
    "plot('C parameter', 'Time, s', cs, time)\n",
    "plot('C parameter', 'Score', cs, scores)\n",
    "print 'Лучший С =', bestC\n",
    "print 'Max качество =', np.max(scores)\n",
    "print 'Min качество =', np.min(scores)"
   ]
  },
  {
   "cell_type": "markdown",
   "metadata": {},
   "source": [
    "### Какое качество получилось у логистической регрессии над всеми исходными признаками? Как оно соотносится с качеством градиентного бустинга? Чем вы можете объяснить эту разницу? Быстрее ли работает логистическая регрессия по сравнению с градиентным бустингом?\n",
    "\n",
    "У логистической регрессии качество равно 0.72 против лучшего для градиентного бустинга равного 0.71. Разница не велика, в сотых. Скорость работы логистической кривой существенно выше, что делает ее более предпочтительной для использования."
   ]
  },
  {
   "cell_type": "code",
   "execution_count": 13,
   "metadata": {
    "collapsed": false
   },
   "outputs": [
    {
     "data": {
      "image/png": "[encoded data removed]",
      "text/plain": [
       "<matplotlib.figure.Figure at 0x13cdf2d0>"
      ]
     },
     "metadata": {},
     "output_type": "display_data"
    },
    {
     "name": "stdout",
     "output_type": "stream",
     "text": [
      "Лучший С = 0.01\n",
      "Max качество = 0.716400950653\n",
      "Min качество = 0.711248389557\n"
     ]
    }
   ],
   "source": [
    "# 2.2 Среди признаков в выборке есть категориальные, которые мы использовали как числовые, что вряд ли является \n",
    "#     хорошей идеей. Категориальных признаков в этой задаче одиннадцать: lobby_type и r1_hero, r2_hero, ..., r5_hero, \n",
    "#     d1_hero, d2_hero, ..., d5_hero. Уберите их из выборки, и проведите кросс-валидацию для логистической регрессии \n",
    "#     на новой выборке с подбором лучшего параметра регуляризации. Изменилось ли качество? Чем вы можете это объяснить?\n",
    "\n",
    "withoutCategories = featuresAdapted.drop(['lobby_type','r1_hero','r2_hero','r3_hero',\n",
    "                                          'r4_hero','r5_hero','d1_hero','d2_hero',\n",
    "                                          'd3_hero', 'd4_hero', 'd5_hero'], axis = 1).as_matrix()\n",
    "\n",
    "scaledWithoutCategories = preprocessing.scale(withoutCategories)\n",
    "bestC, time, scores = findBestCForLR(cs, scaledWithoutCategories, targetColumn)\n",
    "\n",
    "plot('C parameter', 'Score', cs, scores)\n",
    "print 'Лучший С =', bestC\n",
    "print 'Max качество =', np.max(scores)\n",
    "print 'Min качество =', np.min(scores)"
   ]
  },
  {
   "cell_type": "markdown",
   "metadata": {},
   "source": [
    "### Как влияет на качество логистической регрессии удаление категориальных признаков (укажите новое значение метрики качества)? Чем вы можете объяснить это изменение?\n",
    "\n",
    "Удаление категориальных признаков приводит к незначительному повышению качества, но очень очень незначительному:  0.716400950653, против 0.716341465365 - без удаления категорий. Значения категориальных признаков несильно отличается от нуля (по сравнению с другими например), потому их исключение и не изменила общей наблюдаемой картины."
   ]
  },
  {
   "cell_type": "code",
   "execution_count": 9,
   "metadata": {
    "collapsed": false
   },
   "outputs": [
    {
     "name": "stdout",
     "output_type": "stream",
     "text": [
      "Количество разных героев = 112\n"
     ]
    }
   ],
   "source": [
    "# 2.3 На предыдущем шаге мы исключили из выборки признаки rM_hero и dM_hero, которые показывают, какие именно герои \n",
    "#     играли за каждую команду. Это важные признаки — герои имеют разные характеристики, и некоторые из них выигрывают \n",
    "#     чаще, чем другие. Выясните из данных, сколько различных идентификаторов героев существует в данной игре (вам может \n",
    "#     пригодиться фукнция unique или value_counts)\n",
    "\n",
    "heroes = featuresAdapted[['r1_hero','r2_hero','r3_hero',\n",
    "                          'r4_hero','r5_hero','d1_hero',\n",
    "                          'd2_hero','d3_hero','d4_hero','d5_hero']]\n",
    "heroQtys = np.max(pd.unique(heroes.as_matrix().ravel()))\n",
    "print 'Количество разных героев =', heroQtys"
   ]
  },
  {
   "cell_type": "markdown",
   "metadata": {},
   "source": [
    "### Сколько различных идентификаторов героев существует в данной игре?\n",
    "\n",
    "112"
   ]
  },
  {
   "cell_type": "code",
   "execution_count": 10,
   "metadata": {
    "collapsed": false
   },
   "outputs": [],
   "source": [
    "# 2.4 Воспользуемся подходом \"мешок слов\" для кодирования информации о героях. Пусть всего в игре имеет N \n",
    "#     различных героев. Сформируем N признаков, при этом i-й будет равен нулю, если i-й герой не участвовал \n",
    "#     в матче; единице, если i-й герой играл за команду Radiant; минус единице, если i-й герой играл за команду \n",
    "#     Dire. Ниже вы можете найти код, который выполняет данной преобразование. Добавьте полученные признаки к \n",
    "#     числовым, которые вы использовали во втором пункте данного этапа.\n",
    "\n",
    "def formBag(data, N):\n",
    "    bag = np.zeros((data.shape[0], N))\n",
    "\n",
    "    for i, match_id in enumerate(data.index):\n",
    "        for p in xrange(5):\n",
    "            bag[i, data.ix[match_id, 'r%d_hero' % (p + 1)] - 1] = 1\n",
    "            bag[i, data.ix[match_id, 'd%d_hero' % (p + 1)] - 1] = -1\n",
    "    \n",
    "    return bag"
   ]
  },
  {
   "cell_type": "code",
   "execution_count": 11,
   "metadata": {
    "collapsed": false
   },
   "outputs": [],
   "source": [
    "wordsBag = np.hstack((withoutCategories, formBag(heroes, heroQtys)))"
   ]
  },
  {
   "cell_type": "code",
   "execution_count": 12,
   "metadata": {
    "collapsed": false
   },
   "outputs": [
    {
     "name": "stderr",
     "output_type": "stream",
     "text": [
      "C:\\Users\\edart\\Anaconda2\\lib\\site-packages\\sklearn\\preprocessing\\data.py:167: UserWarning: Numerical issues were encountered when centering the data and might not be solved. Dataset may contain too large values. You may need to prescale your features.\n",
      "  warnings.warn(\"Numerical issues were encountered \"\n"
     ]
    },
    {
     "data": {
      "image/png": "[encoded data removed]",
      "text/plain": [
       "<matplotlib.figure.Figure at 0x1492bdd0>"
      ]
     },
     "metadata": {},
     "output_type": "display_data"
    },
    {
     "name": "stdout",
     "output_type": "stream",
     "text": [
      "Лучший С = 0.01\n",
      "Max качество = 0.751970490091\n",
      "Min качество = 0.742839117639\n"
     ]
    }
   ],
   "source": [
    "# 2.5 Проведите кросс-валидацию для логистической регрессии на новой выборке с подбором лучшего параметра регуляризации. \n",
    "#     Какое получилось качество? Улучшилось ли оно? Чем вы можете это объяснить?\n",
    "\n",
    "scaledWordsBag = preprocessing.scale(wordsBag)\n",
    "\n",
    "bestC, time, scores = findBestCForLR(cs, scaledWordsBag, targetColumn)\n",
    "plot('C parameter', 'Score', cs, scores)\n",
    "print 'Лучший С =', bestC\n",
    "print 'Max качество =', np.max(scores)\n",
    "print 'Min качество =', np.min(scores)"
   ]
  },
  {
   "cell_type": "markdown",
   "metadata": {},
   "source": [
    "### Какое получилось качество при добавлении \"мешка слов\" по героям? Улучшилось ли оно по сравнению с предыдущим вариантом? Чем вы можете это объяснить?\n",
    "\n",
    "Да, произошло заметное улучшение. И хотя оно в пределах нескольких процентов, но заметнее, чем результат удаления категориальных признаков. Потому можно сказать, что эта лучшая из рассмотренных моделей. Объясняется это тем, что признак становится числовым, что увеличивает его информативность и улучшает возможность обучения "
   ]
  },
  {
   "cell_type": "code",
   "execution_count": 13,
   "metadata": {
    "collapsed": false
   },
   "outputs": [],
   "source": [
    "# 2.6 Постройте предсказания вероятностей победы команды Radiant для тестовой выборки с помощью лучшей из изученных \n",
    "#     моделей (лучшей с точки зрения AUC-ROC на кросс-валидации). Убедитесь, что предсказанные вероятности адекватные — \n",
    "#     находятся на отрезке [0, 1], не совпадают между собой (т.е. что модель не получилась константной).\n",
    "\n",
    "# Готовим тестовую выборку к использованию в лучшей модели с мешком слов, т.е.\n",
    "# получаем выборку\n",
    "featuresTest = pd.read_csv(r'C:\\temp\\features_test.csv', index_col = 'match_id')\n",
    "# заполняем пропущенные значения\n",
    "featuresTest.fillna(0, inplace=True)\n",
    "# готов мешок слов\n",
    "withoutCategoriesTest = featuresTest.drop(['lobby_type','r1_hero','r2_hero','r3_hero',\n",
    "                                          'r4_hero','r5_hero','d1_hero','d2_hero',\n",
    "                                          'd3_hero', 'd4_hero', 'd5_hero'], axis = 1).as_matrix()\n",
    "heroes = featuresTest[['r1_hero','r2_hero','r3_hero',\n",
    "                          'r4_hero','r5_hero','d1_hero',\n",
    "                          'd2_hero','d3_hero','d4_hero','d5_hero']]\n",
    "heroQtys = np.max(pd.unique(heroes.as_matrix().ravel()))\n",
    "\n",
    "wordsBagTest = np.hstack((withoutCategoriesTest, formBag(heroes, heroQtys)))"
   ]
  },
  {
   "cell_type": "code",
   "execution_count": 14,
   "metadata": {
    "collapsed": true
   },
   "outputs": [],
   "source": [
    "scaledWordsBagTest = preprocessing.scale(wordsBagTest)"
   ]
  },
  {
   "cell_type": "code",
   "execution_count": 16,
   "metadata": {
    "collapsed": false
   },
   "outputs": [],
   "source": [
    "# обучаем выборку с найденным параметром регуляризации\n",
    "nlRC = LogisticRegression(C = bestC)\n",
    "nlRC.fit(scaledWordsBag, targetColumn)\n",
    "\n",
    "# выполняем предсказание по выборке\n",
    "prediction = nlRC.predict_proba(scaledWordsBagTest)[:, 0]"
   ]
  },
  {
   "cell_type": "code",
   "execution_count": 17,
   "metadata": {
    "collapsed": true
   },
   "outputs": [],
   "source": [
    "# вормируем результат\n",
    "result = pd.DataFrame(prediction, index = featuresTest.index, columns = ['radiant_win'])\n",
    "result.to_csv(r'C:\\temp\\prediction.csv', sep = ',', encoding = 'utf-8')"
   ]
  },
  {
   "cell_type": "code",
   "execution_count": 18,
   "metadata": {
    "collapsed": false
   },
   "outputs": [
    {
     "data": {
      "text/html": [
       "<div>\n",
       "<table border=\"1\" class=\"dataframe\">\n",
       "  <thead>\n",
       "    <tr style=\"text-align: right;\">\n",
       "      <th></th>\n",
       "      <th>radiant_win</th>\n",
       "    </tr>\n",
       "    <tr>\n",
       "      <th>match_id</th>\n",
       "      <th></th>\n",
       "    </tr>\n",
       "  </thead>\n",
       "  <tbody>\n",
       "    <tr>\n",
       "      <th>6</th>\n",
       "      <td>0.177311</td>\n",
       "    </tr>\n",
       "    <tr>\n",
       "      <th>7</th>\n",
       "      <td>0.243982</td>\n",
       "    </tr>\n",
       "    <tr>\n",
       "      <th>10</th>\n",
       "      <td>0.811342</td>\n",
       "    </tr>\n",
       "    <tr>\n",
       "      <th>13</th>\n",
       "      <td>0.143254</td>\n",
       "    </tr>\n",
       "    <tr>\n",
       "      <th>16</th>\n",
       "      <td>0.758544</td>\n",
       "    </tr>\n",
       "    <tr>\n",
       "      <th>18</th>\n",
       "      <td>0.619692</td>\n",
       "    </tr>\n",
       "    <tr>\n",
       "      <th>19</th>\n",
       "      <td>0.472633</td>\n",
       "    </tr>\n",
       "    <tr>\n",
       "      <th>24</th>\n",
       "      <td>0.437271</td>\n",
       "    </tr>\n",
       "    <tr>\n",
       "      <th>33</th>\n",
       "      <td>0.784179</td>\n",
       "    </tr>\n",
       "    <tr>\n",
       "      <th>37</th>\n",
       "      <td>0.325579</td>\n",
       "    </tr>\n",
       "    <tr>\n",
       "      <th>41</th>\n",
       "      <td>0.843189</td>\n",
       "    </tr>\n",
       "    <tr>\n",
       "      <th>42</th>\n",
       "      <td>0.674099</td>\n",
       "    </tr>\n",
       "    <tr>\n",
       "      <th>55</th>\n",
       "      <td>0.764480</td>\n",
       "    </tr>\n",
       "    <tr>\n",
       "      <th>60</th>\n",
       "      <td>0.325451</td>\n",
       "    </tr>\n",
       "    <tr>\n",
       "      <th>62</th>\n",
       "      <td>0.448186</td>\n",
       "    </tr>\n",
       "    <tr>\n",
       "      <th>63</th>\n",
       "      <td>0.387426</td>\n",
       "    </tr>\n",
       "    <tr>\n",
       "      <th>64</th>\n",
       "      <td>0.910593</td>\n",
       "    </tr>\n",
       "    <tr>\n",
       "      <th>71</th>\n",
       "      <td>0.446786</td>\n",
       "    </tr>\n",
       "    <tr>\n",
       "      <th>72</th>\n",
       "      <td>0.681670</td>\n",
       "    </tr>\n",
       "    <tr>\n",
       "      <th>83</th>\n",
       "      <td>0.494657</td>\n",
       "    </tr>\n",
       "    <tr>\n",
       "      <th>85</th>\n",
       "      <td>0.220459</td>\n",
       "    </tr>\n",
       "    <tr>\n",
       "      <th>89</th>\n",
       "      <td>0.069178</td>\n",
       "    </tr>\n",
       "    <tr>\n",
       "      <th>92</th>\n",
       "      <td>0.246032</td>\n",
       "    </tr>\n",
       "    <tr>\n",
       "      <th>100</th>\n",
       "      <td>0.040949</td>\n",
       "    </tr>\n",
       "    <tr>\n",
       "      <th>102</th>\n",
       "      <td>0.114340</td>\n",
       "    </tr>\n",
       "    <tr>\n",
       "      <th>108</th>\n",
       "      <td>0.463454</td>\n",
       "    </tr>\n",
       "    <tr>\n",
       "      <th>111</th>\n",
       "      <td>0.224713</td>\n",
       "    </tr>\n",
       "    <tr>\n",
       "      <th>126</th>\n",
       "      <td>0.811954</td>\n",
       "    </tr>\n",
       "    <tr>\n",
       "      <th>130</th>\n",
       "      <td>0.946425</td>\n",
       "    </tr>\n",
       "    <tr>\n",
       "      <th>140</th>\n",
       "      <td>0.210090</td>\n",
       "    </tr>\n",
       "    <tr>\n",
       "      <th>...</th>\n",
       "      <td>...</td>\n",
       "    </tr>\n",
       "    <tr>\n",
       "      <th>114165</th>\n",
       "      <td>0.185247</td>\n",
       "    </tr>\n",
       "    <tr>\n",
       "      <th>114168</th>\n",
       "      <td>0.333269</td>\n",
       "    </tr>\n",
       "    <tr>\n",
       "      <th>114171</th>\n",
       "      <td>0.534108</td>\n",
       "    </tr>\n",
       "    <tr>\n",
       "      <th>114183</th>\n",
       "      <td>0.852529</td>\n",
       "    </tr>\n",
       "    <tr>\n",
       "      <th>114188</th>\n",
       "      <td>0.370995</td>\n",
       "    </tr>\n",
       "    <tr>\n",
       "      <th>114192</th>\n",
       "      <td>0.154284</td>\n",
       "    </tr>\n",
       "    <tr>\n",
       "      <th>114195</th>\n",
       "      <td>0.483209</td>\n",
       "    </tr>\n",
       "    <tr>\n",
       "      <th>114202</th>\n",
       "      <td>0.519317</td>\n",
       "    </tr>\n",
       "    <tr>\n",
       "      <th>114209</th>\n",
       "      <td>0.613342</td>\n",
       "    </tr>\n",
       "    <tr>\n",
       "      <th>114211</th>\n",
       "      <td>0.193029</td>\n",
       "    </tr>\n",
       "    <tr>\n",
       "      <th>114217</th>\n",
       "      <td>0.247736</td>\n",
       "    </tr>\n",
       "    <tr>\n",
       "      <th>114232</th>\n",
       "      <td>0.610453</td>\n",
       "    </tr>\n",
       "    <tr>\n",
       "      <th>114236</th>\n",
       "      <td>0.497128</td>\n",
       "    </tr>\n",
       "    <tr>\n",
       "      <th>114238</th>\n",
       "      <td>0.334668</td>\n",
       "    </tr>\n",
       "    <tr>\n",
       "      <th>114242</th>\n",
       "      <td>0.419128</td>\n",
       "    </tr>\n",
       "    <tr>\n",
       "      <th>114247</th>\n",
       "      <td>0.710808</td>\n",
       "    </tr>\n",
       "    <tr>\n",
       "      <th>114285</th>\n",
       "      <td>0.741544</td>\n",
       "    </tr>\n",
       "    <tr>\n",
       "      <th>114286</th>\n",
       "      <td>0.588785</td>\n",
       "    </tr>\n",
       "    <tr>\n",
       "      <th>114314</th>\n",
       "      <td>0.462934</td>\n",
       "    </tr>\n",
       "    <tr>\n",
       "      <th>114327</th>\n",
       "      <td>0.519245</td>\n",
       "    </tr>\n",
       "    <tr>\n",
       "      <th>114330</th>\n",
       "      <td>0.587826</td>\n",
       "    </tr>\n",
       "    <tr>\n",
       "      <th>114337</th>\n",
       "      <td>0.662046</td>\n",
       "    </tr>\n",
       "    <tr>\n",
       "      <th>114348</th>\n",
       "      <td>0.823998</td>\n",
       "    </tr>\n",
       "    <tr>\n",
       "      <th>114349</th>\n",
       "      <td>0.400200</td>\n",
       "    </tr>\n",
       "    <tr>\n",
       "      <th>114361</th>\n",
       "      <td>0.684368</td>\n",
       "    </tr>\n",
       "    <tr>\n",
       "      <th>114369</th>\n",
       "      <td>0.281179</td>\n",
       "    </tr>\n",
       "    <tr>\n",
       "      <th>114377</th>\n",
       "      <td>0.368557</td>\n",
       "    </tr>\n",
       "    <tr>\n",
       "      <th>114378</th>\n",
       "      <td>0.766229</td>\n",
       "    </tr>\n",
       "    <tr>\n",
       "      <th>114393</th>\n",
       "      <td>0.368943</td>\n",
       "    </tr>\n",
       "    <tr>\n",
       "      <th>114398</th>\n",
       "      <td>0.570862</td>\n",
       "    </tr>\n",
       "  </tbody>\n",
       "</table>\n",
       "<p>17177 rows × 1 columns</p>\n",
       "</div>"
      ],
      "text/plain": [
       "          radiant_win\n",
       "match_id             \n",
       "6            0.177311\n",
       "7            0.243982\n",
       "10           0.811342\n",
       "13           0.143254\n",
       "16           0.758544\n",
       "18           0.619692\n",
       "19           0.472633\n",
       "24           0.437271\n",
       "33           0.784179\n",
       "37           0.325579\n",
       "41           0.843189\n",
       "42           0.674099\n",
       "55           0.764480\n",
       "60           0.325451\n",
       "62           0.448186\n",
       "63           0.387426\n",
       "64           0.910593\n",
       "71           0.446786\n",
       "72           0.681670\n",
       "83           0.494657\n",
       "85           0.220459\n",
       "89           0.069178\n",
       "92           0.246032\n",
       "100          0.040949\n",
       "102          0.114340\n",
       "108          0.463454\n",
       "111          0.224713\n",
       "126          0.811954\n",
       "130          0.946425\n",
       "140          0.210090\n",
       "...               ...\n",
       "114165       0.185247\n",
       "114168       0.333269\n",
       "114171       0.534108\n",
       "114183       0.852529\n",
       "114188       0.370995\n",
       "114192       0.154284\n",
       "114195       0.483209\n",
       "114202       0.519317\n",
       "114209       0.613342\n",
       "114211       0.193029\n",
       "114217       0.247736\n",
       "114232       0.610453\n",
       "114236       0.497128\n",
       "114238       0.334668\n",
       "114242       0.419128\n",
       "114247       0.710808\n",
       "114285       0.741544\n",
       "114286       0.588785\n",
       "114314       0.462934\n",
       "114327       0.519245\n",
       "114330       0.587826\n",
       "114337       0.662046\n",
       "114348       0.823998\n",
       "114349       0.400200\n",
       "114361       0.684368\n",
       "114369       0.281179\n",
       "114377       0.368557\n",
       "114378       0.766229\n",
       "114393       0.368943\n",
       "114398       0.570862\n",
       "\n",
       "[17177 rows x 1 columns]"
      ]
     },
     "execution_count": 18,
     "metadata": {},
     "output_type": "execute_result"
    }
   ],
   "source": [
    "result"
   ]
  },
  {
   "cell_type": "code",
   "execution_count": null,
   "metadata": {
    "collapsed": true
   },
   "outputs": [],
   "source": []
  }
 ],
 "metadata": {
  "kernelspec": {
   "display_name": "Python 2",
   "language": "python",
   "name": "python2"
  },
  "language_info": {
   "codemirror_mode": {
    "name": "ipython",
    "version": 2
   },
   "file_extension": ".py",
   "mimetype": "text/x-python",
   "name": "python",
   "nbconvert_exporter": "python",
   "pygments_lexer": "ipython2",
   "version": "2.7.11"
  }
 },
 "nbformat": 4,
 "nbformat_minor": 0
}
