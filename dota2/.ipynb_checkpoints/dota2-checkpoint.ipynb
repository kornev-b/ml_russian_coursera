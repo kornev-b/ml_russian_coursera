{
 "cells": [
  {
   "cell_type": "code",
   "execution_count": 5,
   "metadata": {
    "collapsed": false
   },
   "outputs": [],
   "source": [
    "from sklearn.ensemble import GradientBoostingClassifier\n",
    "import pandas as pd\n",
    "from sklearn.preprocessing import scale\n",
    "import numpy as np\n",
    "import sklearn.cross_validation as cv\n",
    "import time\n",
    "import datetime\n",
    "\n",
    "def compute_additional_features(df):\n",
    "    df['total_level_r'] = 0\n",
    "    df['total_level_d'] = 0\n",
    "    df['total_xp_r'] = 0\n",
    "    df['total_xp_d'] = 0\n",
    "    df['total_gold_r'] = 0\n",
    "    df['total_gold_d'] = 0\n",
    "    df['total_lh_r'] = 0\n",
    "    df['total_lh_d'] = 0\n",
    "    df['total_kills_r'] = 0\n",
    "    df['total_kills_d'] = 0\n",
    "    df['total_deaths_r'] = 0\n",
    "    df['total_deaths_d'] = 0\n",
    "    df['total_items_r'] = 0\n",
    "    df['total_items_d'] = 0\n",
    "    for i in xrange(1, 6):\n",
    "        df['total_level_r'] += df['r%d_level' % i]\n",
    "        df['total_level_d'] += df['d%d_level' % i] \n",
    "        df['total_xp_r'] += df['r%d_xp' % i] \n",
    "        df['total_xp_d'] += df['d%d_xp' % i] \n",
    "        df['total_gold_r'] += df['r%d_gold' % i] \n",
    "        df['total_gold_d'] += df['d%d_gold' % i]\n",
    "        df['total_lh_r'] += df['r%d_lh' % i] \n",
    "        df['total_lh_d'] += df['d%d_lh' % i]\n",
    "        df['total_kills_r'] += df['r%d_kills' % i] \n",
    "        df['total_kills_d'] += df['d%d_kills' % i]\n",
    "        df['total_deaths_r'] += df['r%d_deaths' % i] \n",
    "        df['total_deaths_d'] += df['d%d_deaths' % i]\n",
    "        df['total_items_r'] += df['r%d_items' % i] \n",
    "        df['total_items_d'] += df['d%d_items' % i]\n",
    "    df['total_level_r'] = df['total_level_r'] * df['total_level_r']\n",
    "    df['total_level_d'] = df['total_level_d'] * df['total_level_d']\n",
    "    df['total_xp_r'] = df['total_xp_r'] * df['total_xp_r']\n",
    "    df['total_xp_d'] = df['total_xp_d'] * df['total_xp_d']\n",
    "    df['total_gold_r'] = df['total_gold_r'] * df['total_gold_r']\n",
    "    df['total_gold_d'] = df['total_gold_d'] * df['total_gold_d']\n",
    "    df['total_lh_r'] = df['total_lh_r'] * df['total_lh_r']\n",
    "    df['total_lh_d'] = df['total_lh_d'] * df['total_lh_d']\n",
    "    df['total_kills_r'] = df['total_kills_r'] * df['total_kills_r']\n",
    "    df['total_kills_d'] = df['total_kills_d'] * df['total_kills_d']\n",
    "    df['total_deaths_r'] = df['total_deaths_r'] * df['total_deaths_r']\n",
    "    df['total_deaths_d'] = df['total_deaths_d'] * df['total_deaths_d']\n",
    "    df['total_items_r'] = df['total_items_r'] * df['total_items_r']\n",
    "    df['total_items_d'] = df['total_items_d'] * df['total_items_d']\n",
    "    return df\n",
    "\n",
    "def preprocess(df):\n",
    "    del df['duration']\n",
    "    del df['tower_status_radiant']\n",
    "    del df['tower_status_dire']\n",
    "    del df['barracks_status_radiant']\n",
    "    del df['barracks_status_dire']\n",
    "    df.fillna(0, inplace=True)\n",
    "    return df\n",
    "\n",
    "def delete_redundant_features(df):\n",
    "    for i in xrange(1, 6):\n",
    "        del df['r%d_level' % i]\n",
    "        del df['r%d_xp' % i]\n",
    "        del df['r%d_gold' % i]\n",
    "        del df['r%d_lh' % i]\n",
    "        del df['r%d_kills' % i]\n",
    "        del df['r%d_deaths' % i]\n",
    "        del df['r%d_items' % i]\n",
    "        del df['d%d_level' % i]\n",
    "        del df['d%d_xp' % i]\n",
    "        del df['d%d_gold' % i]\n",
    "        del df['d%d_lh' % i]\n",
    "        del df['d%d_kills' % i]\n",
    "        del df['d%d_deaths' % i]\n",
    "        del df['d%d_items' % i]\n",
    "    return df\n",
    "\n",
    "def categorize_lobbies(df):\n",
    "    X_pick = np.zeros((df.shape[0], 8))\n",
    "    for i, match_id in enumerate(df.index):\n",
    "        X_pick[i, df.ix[match_id, 'lobby_type']-1] = 1\n",
    "    \n",
    "    for i in xrange(8):\n",
    "        df['lobby_%d' % (i+1)] = X_pick[:, i]\n",
    "    del df['lobby_type']\n",
    "    return df\n",
    "    \n",
    "\n",
    "def categorize_heroes(df):\n",
    "    X_pick = np.zeros((df.shape[0], 113))\n",
    "\n",
    "    for i, match_id in enumerate(df.index):\n",
    "        for p in xrange(5):\n",
    "            X_pick[i, df.ix[match_id, 'r%d_hero' % (p+1)]-1] = 1\n",
    "            X_pick[i, df.ix[match_id, 'd%d_hero' % (p+1)]-1] = -1\n",
    "\n",
    "    for i in xrange(112):\n",
    "        df['hero_%d' % (i+1)] = X_pick[:, i]\n",
    "\n",
    "    for i in xrange(1, 6):\n",
    "        del df['r%d_hero' % i]\n",
    "        del df['d%d_hero' % i]\n",
    "    return df\n",
    "\n",
    "kf = cv.KFold(len(df.index), n_folds=4, shuffle=True, random_state=241)"
   ]
  },
  {
   "cell_type": "code",
   "execution_count": null,
   "metadata": {
    "collapsed": true
   },
   "outputs": [],
   "source": [
    "df = pd.read_csv('features.csv', index_col='match_id')\n",
    "\n",
    "target = df['radiant_win']\n",
    "del df['radiant_win']\n",
    "df.fillna(0, inplace=True)\n",
    "\n",
    "df = preprocess(df)\n",
    "df = compute_additional_features(df)\n",
    "# df = delete_redundant_features(df)\n",
    "df = categorize_heroes(df)\n",
    "df = categorize_lobbies(df)\n",
    "\n",
    "print df.shape\n",
    "print df.head()\n",
    "X_train = df"
   ]
  },
  {
   "cell_type": "code",
   "execution_count": 7,
   "metadata": {
    "collapsed": false
   },
   "outputs": [
    {
     "name": "stdout",
     "output_type": "stream",
     "text": [
      "Time elapsed: 0:01:32.496000\n",
      "[ 0.72106467  0.71598025  0.71619558  0.7212618 ]\n"
     ]
    }
   ],
   "source": [
    "start_time = datetime.datetime.now()\n",
    "\n",
    "# lerning_rate=0.3, max_depth=2\n",
    "clf = GradientBoostingClassifier(n_estimators=30,verbose=True, random_state=241)\n",
    "cs_result = cv.cross_val_score(clf, X=X_train, y=target, cv=kf, scoring='roc_auc', n_jobs=-1)\n",
    "\n",
    "print 'Time elapsed:', datetime.datetime.now() - start_time\n",
    "print cs_result"
   ]
  },
  {
   "cell_type": "code",
   "execution_count": 31,
   "metadata": {
    "collapsed": false
   },
   "outputs": [],
   "source": [
    "import numpy as np\n",
    "df = pd.read_csv('features.csv', index_col=None)\n",
    "df_test = pd.read_csv('features_test.csv', index_col=None)\n",
    "# print np.unique(df['lobby_type'])\n",
    "# print np.unique(df_test['lobby_type'])\n",
    "# print np.unique(df[['r1_hero', 'r2_hero', 'r3_hero', 'r4_hero', 'r5_hero', 'd1_hero', 'd2_hero', 'd3_hero', 'd4_hero', 'd5_hero']])\n",
    "# print df.isnull().sum()"
   ]
  },
  {
   "cell_type": "code",
   "execution_count": 36,
   "metadata": {
    "collapsed": false
   },
   "outputs": [],
   "source": [
    "# df = pd.read_csv('features.csv', index_col='match_id')\n",
    "from sklearn.preprocessing import StandardScaler\n",
    "df = pd.read_csv('features.csv', index_col=None)\n",
    "\n",
    "target = df['radiant_win']\n",
    "del df['radiant_win']\n",
    "del df['match_id']\n",
    "\n",
    "df = preprocess(df)\n",
    "# df = compute_additional_features(df)\n",
    "# df = delete_redundant_features(df)\n",
    "df = categorize_heroes(df)\n",
    "df = categorize_lobbies(df)\n",
    "# del df['lobby_type']\n",
    "\n",
    "\n",
    "ss = StandardScaler()\n",
    "X_train = ss.fit_transform(X=df, y=target)"
   ]
  },
  {
   "cell_type": "code",
   "execution_count": 46,
   "metadata": {
    "collapsed": false
   },
   "outputs": [
    {
     "name": "stdout",
     "output_type": "stream",
     "text": [
      "(97230, 212)\n",
      "Time elapsed: 0:00:18.559000\n",
      "[ 0.75339022  0.75174889  0.74853075  0.75299571]\n"
     ]
    },
    {
     "ename": "AttributeError",
     "evalue": "'LogisticRegression' object has no attribute 'coef_'",
     "output_type": "error",
     "traceback": [
      "\u001b[1;31m---------------------------------------------------------------------------\u001b[0m",
      "\u001b[1;31mAttributeError\u001b[0m                            Traceback (most recent call last)",
      "\u001b[1;32m<ipython-input-46-2bf9433d21ea>\u001b[0m in \u001b[0;36m<module>\u001b[1;34m()\u001b[0m\n\u001b[0;32m     12\u001b[0m \u001b[1;32mprint\u001b[0m \u001b[1;34m'Time elapsed:'\u001b[0m\u001b[1;33m,\u001b[0m \u001b[0mdatetime\u001b[0m\u001b[1;33m.\u001b[0m\u001b[0mdatetime\u001b[0m\u001b[1;33m.\u001b[0m\u001b[0mnow\u001b[0m\u001b[1;33m(\u001b[0m\u001b[1;33m)\u001b[0m \u001b[1;33m-\u001b[0m \u001b[0mstart_time\u001b[0m\u001b[1;33m\u001b[0m\u001b[0m\n\u001b[0;32m     13\u001b[0m \u001b[1;32mprint\u001b[0m \u001b[0mcs_result\u001b[0m\u001b[1;33m\u001b[0m\u001b[0m\n\u001b[1;32m---> 14\u001b[1;33m \u001b[1;32mprint\u001b[0m \u001b[0mlr\u001b[0m\u001b[1;33m.\u001b[0m\u001b[0mcoef_\u001b[0m\u001b[1;33m\u001b[0m\u001b[0m\n\u001b[0m",
      "\u001b[1;31mAttributeError\u001b[0m: 'LogisticRegression' object has no attribute 'coef_'"
     ]
    }
   ],
   "source": [
    "from sklearn.linear_model import LogisticRegression\n",
    "from sklearn.grid_search import GridSearchCV\n",
    "\n",
    "print df.shape\n",
    "start_time = datetime.datetime.now()\n",
    "\n",
    "kf = cv.KFold(len(df.index), n_folds=4, shuffle=True, random_state=241)\n",
    "tuned_parameters = {'C': [0.1, 0.5, 1, 10, 100, 1000], 'penalty':['l2']}\n",
    "# lr = GridSearchCV(LogisticRegression(random_state=241, n_jobs=-1), tuned_parameters, cv=5, scoring='roc_auc')\n",
    "lr = LogisticRegression(penalty='l2', random_state=241, n_jobs=-1, C=10)\n",
    "cs_result = cv.cross_val_score(lr, X=X_train, y=target, cv=kf, scoring='roc_auc', n_jobs=-1)\n",
    "print 'Time elapsed:', datetime.datetime.now() - start_time\n",
    "print cs_result"
   ]
  },
  {
   "cell_type": "code",
   "execution_count": 29,
   "metadata": {
    "collapsed": false
   },
   "outputs": [
    {
     "name": "stdout",
     "output_type": "stream",
     "text": [
      "[[ 0.17418349  0.82581651]\n",
      " [ 0.24523082  0.75476918]\n",
      " [ 0.8124345   0.1875655 ]\n",
      " [ 0.13954365  0.86045635]\n",
      " [ 0.75960663  0.24039337]\n",
      " [ 0.62564041  0.37435959]\n",
      " [ 0.47055555  0.52944445]\n",
      " [ 0.43409641  0.56590359]\n",
      " [ 0.78598391  0.21401609]\n",
      " [ 0.32784959  0.67215041]]\n"
     ]
    }
   ],
   "source": [
    "df_test = pd.read_csv('features_test.csv', index_col=None)\n",
    "df_test.fillna(0, inplace=True)\n",
    "df_test = categorize_heroes(df_test)\n",
    "df_test = categorize_lobbies(df_test)\n",
    "match_ids = df_test['match_id']\n",
    "del df_test['match_id']\n",
    "X_test = ss.transform(X=df_test)\n",
    "lr.fit(X=X_train, y=target)\n",
    "predicted = lr.predict_proba(X_test)\n",
    "print predicted[:10]"
   ]
  },
  {
   "cell_type": "code",
   "execution_count": 26,
   "metadata": {
    "collapsed": false
   },
   "outputs": [
    {
     "name": "stdout",
     "output_type": "stream",
     "text": [
      "   match_id  radiant_win\n",
      "0         6     1.000000\n",
      "1         7     1.000000\n",
      "2        10     0.190810\n",
      "3        13     0.897760\n",
      "4        16     0.151311\n"
     ]
    }
   ],
   "source": [
    "d = {'match_id': match_ids, 'radiant_win': predicted[:,1]}\n",
    "df_result = pd.DataFrame(data=d, index=None)\n",
    "print df_result.head()\n",
    "df_result.to_csv('submission', sep=',', encoding='utf-8', index=False)"
   ]
  },
  {
   "cell_type": "code",
   "execution_count": 7,
   "metadata": {
    "collapsed": false
   },
   "outputs": [],
   "source": [
    "from sklearn.ensemble import ExtraTreesClassifier\n",
    "df = pd.read_csv('features.csv', index_col=None)\n",
    "\n",
    "target = df['radiant_win']\n",
    "del df['radiant_win']\n",
    "del df['match_id']\n",
    "\n",
    "df = preprocess(df)\n",
    "df = categorize_heroes(df)\n",
    "df = categorize_lobbies(df)"
   ]
  },
  {
   "cell_type": "code",
   "execution_count": 13,
   "metadata": {
    "collapsed": false
   },
   "outputs": [
    {
     "name": "stdout",
     "output_type": "stream",
     "text": [
      "Time elapsed: 0:08:57.187000\n",
      "[ 0.71043932  0.71114338  0.70850037  0.71039338]\n"
     ]
    }
   ],
   "source": [
    "forest = ExtraTreesClassifier(n_estimators=500,\n",
    "                              n_jobs=-1,\n",
    "                              random_state=241,\n",
    "                              verbose=True)\n",
    "\n",
    "start_time = datetime.datetime.now()\n",
    "\n",
    "cs = cv.cross_val_score(forest, X=df, y=target, cv=kf, scoring='roc_auc', n_jobs=-1)\n",
    "\n",
    "print 'Time elapsed:', datetime.datetime.now() - start_time\n",
    "print cs"
   ]
  },
  {
   "cell_type": "code",
   "execution_count": null,
   "metadata": {
    "collapsed": true
   },
   "outputs": [],
   "source": [
    "forest.fit_transform(X=df, y=target)\n",
    "\n",
    "df_test = pd.read_csv('features_test.csv', index_col=None)\n",
    "df_test.fillna(0, inplace=True)\n",
    "df_test = categorize_heroes(df_test)\n",
    "df_test = categorize_lobbies(df_test)\n",
    "match_ids = df_test['match_id']\n",
    "del df_test['match_id']\n",
    "\n",
    "predicted = forest.predict_proba(X=df_test)\n",
    "print predicted[:10]"
   ]
  }
 ],
 "metadata": {
  "kernelspec": {
   "display_name": "Python 2",
   "language": "python",
   "name": "python2"
  },
  "language_info": {
   "codemirror_mode": {
    "name": "ipython",
    "version": 2
   },
   "file_extension": ".py",
   "mimetype": "text/x-python",
   "name": "python",
   "nbconvert_exporter": "python",
   "pygments_lexer": "ipython2",
   "version": "2.7.11"
  }
 },
 "nbformat": 4,
 "nbformat_minor": 0
}
