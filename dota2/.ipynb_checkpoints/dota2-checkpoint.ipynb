{
 "cells": [
  {
   "cell_type": "code",
   "execution_count": 1,
   "metadata": {
    "collapsed": true
   },
   "outputs": [],
   "source": [
    "from sklearn.ensemble import GradientBoostingClassifier\n",
    "import pandas as pd\n",
    "from sklearn.preprocessing import scale\n",
    "from sklearn.preprocessing import StandardScaler\n",
    "import numpy as np\n",
    "import sklearn.cross_validation as cv\n",
    "import time\n",
    "import datetime\n",
    "\n",
    "def compute_additional_features(df):\n",
    "    df['total_level_r'] = 0\n",
    "    df['total_level_d'] = 0\n",
    "    df['total_xp_r'] = 0\n",
    "    df['total_xp_d'] = 0\n",
    "    df['total_gold_r'] = 0\n",
    "    df['total_gold_d'] = 0\n",
    "    df['total_lh_r'] = 0\n",
    "    df['total_lh_d'] = 0\n",
    "    df['total_kills_r'] = 0\n",
    "    df['total_kills_d'] = 0\n",
    "    df['total_deaths_r'] = 0\n",
    "    df['total_deaths_d'] = 0\n",
    "    df['total_items_r'] = 0\n",
    "    df['total_items_d'] = 0\n",
    "    for i in xrange(1, 6):\n",
    "        df['total_level_r'] += df['r%d_level' % i]\n",
    "        df['total_level_d'] += df['d%d_level' % i] \n",
    "        df['total_xp_r'] += df['r%d_xp' % i] \n",
    "        df['total_xp_d'] += df['d%d_xp' % i] \n",
    "        df['total_gold_r'] += df['r%d_gold' % i] \n",
    "        df['total_gold_d'] += df['d%d_gold' % i]\n",
    "        df['total_lh_r'] += df['r%d_lh' % i] \n",
    "        df['total_lh_d'] += df['d%d_lh' % i]\n",
    "        df['total_kills_r'] += df['r%d_kills' % i] \n",
    "        df['total_kills_d'] += df['d%d_kills' % i]\n",
    "        df['total_deaths_r'] += df['r%d_deaths' % i] \n",
    "        df['total_deaths_d'] += df['d%d_deaths' % i]\n",
    "        df['total_items_r'] += df['r%d_items' % i] \n",
    "        df['total_items_d'] += df['d%d_items' % i]\n",
    "    df['total_level_r'] = df['total_level_r'] * df['total_level_r']\n",
    "    df['total_level_d'] = df['total_level_d'] * df['total_level_d']\n",
    "    df['total_xp_r'] = df['total_xp_r'] * df['total_xp_r']\n",
    "    df['total_xp_d'] = df['total_xp_d'] * df['total_xp_d']\n",
    "    df['total_gold_r'] = df['total_gold_r'] * df['total_gold_r']\n",
    "    df['total_gold_d'] = df['total_gold_d'] * df['total_gold_d']\n",
    "    df['total_lh_r'] = df['total_lh_r'] * df['total_lh_r']\n",
    "    df['total_lh_d'] = df['total_lh_d'] * df['total_lh_d']\n",
    "    df['total_kills_r'] = df['total_kills_r'] * df['total_kills_r']\n",
    "    df['total_kills_d'] = df['total_kills_d'] * df['total_kills_d']\n",
    "    df['total_deaths_r'] = df['total_deaths_r'] * df['total_deaths_r']\n",
    "    df['total_deaths_d'] = df['total_deaths_d'] * df['total_deaths_d']\n",
    "    df['total_items_r'] = df['total_items_r'] * df['total_items_r']\n",
    "    df['total_items_d'] = df['total_items_d'] * df['total_items_d']\n",
    "    return df\n",
    "\n",
    "def preprocess(df):\n",
    "    del df['duration']\n",
    "    del df['tower_status_radiant']\n",
    "    del df['tower_status_dire']\n",
    "    del df['barracks_status_radiant']\n",
    "    del df['barracks_status_dire']\n",
    "    df.fillna(0, inplace=True)\n",
    "    return df\n",
    "\n",
    "def delete_redundant_features(df):\n",
    "    for i in xrange(1, 6):\n",
    "        del df['r%d_level' % i]\n",
    "        del df['r%d_xp' % i]\n",
    "        del df['r%d_gold' % i]\n",
    "        del df['r%d_lh' % i]\n",
    "        del df['r%d_kills' % i]\n",
    "        del df['r%d_deaths' % i]\n",
    "        del df['r%d_items' % i]\n",
    "        del df['d%d_level' % i]\n",
    "        del df['d%d_xp' % i]\n",
    "        del df['d%d_gold' % i]\n",
    "        del df['d%d_lh' % i]\n",
    "        del df['d%d_kills' % i]\n",
    "        del df['d%d_deaths' % i]\n",
    "        del df['d%d_items' % i]\n",
    "    return df\n",
    "\n",
    "def categorize_lobbies(df):\n",
    "    X_pick = np.zeros((df.shape[0], 8))\n",
    "    for i, match_id in enumerate(df.index):\n",
    "        X_pick[i, df.ix[match_id, 'lobby_type']-1] = 1\n",
    "    \n",
    "    for i in xrange(8):\n",
    "        df['lobby_%d' % (i+1)] = X_pick[:, i]\n",
    "    del df['lobby_type']\n",
    "    return df\n",
    "    \n",
    "\n",
    "def categorize_heroes(df):\n",
    "    X_pick = np.zeros((df.shape[0], 113))\n",
    "\n",
    "    for i, match_id in enumerate(df.index):\n",
    "        for p in xrange(5):\n",
    "            X_pick[i, df.ix[match_id, 'r%d_hero' % (p+1)]-1] = 1\n",
    "            X_pick[i, df.ix[match_id, 'd%d_hero' % (p+1)]-1] = -1\n",
    "\n",
    "    for i in xrange(112):\n",
    "        df['hero_%d' % (i+1)] = X_pick[:, i]\n",
    "\n",
    "    for i in xrange(1, 6):\n",
    "        del df['r%d_hero' % i]\n",
    "        del df['d%d_hero' % i]\n",
    "    return df"
   ]
  },
  {
   "cell_type": "code",
   "execution_count": 10,
   "metadata": {
    "collapsed": false
   },
   "outputs": [
    {
     "name": "stdout",
     "output_type": "stream",
     "text": [
      "(97230, 210)\n"
     ]
    }
   ],
   "source": [
    "df = pd.read_csv('features.csv', index_col='match_id')\n",
    "df = df.reindex(np.random.permutation(df.index))\n",
    "target = df['radiant_win']\n",
    "del df['radiant_win']\n",
    "del df['start_time']\n",
    "\n",
    "df = preprocess(df)\n",
    "df = categorize_heroes(df)\n",
    "df = categorize_lobbies(df)\n",
    "\n",
    "print df.shape\n",
    "X_train = df"
   ]
  },
  {
   "cell_type": "code",
   "execution_count": 11,
   "metadata": {
    "collapsed": false
   },
   "outputs": [],
   "source": [
    "train = df[:df.shape[0]/3]\n",
    "train_target = target[:df.shape[0]/3]\n",
    "test = df.tail(df.shape[0]/10)\n",
    "test_target = target.tail(df.shape[0]/10)"
   ]
  },
  {
   "cell_type": "code",
   "execution_count": 12,
   "metadata": {
    "collapsed": false
   },
   "outputs": [
    {
     "name": "stdout",
     "output_type": "stream",
     "text": [
      "(32410, 211)\n",
      "(9723, 211)\n"
     ]
    }
   ],
   "source": [
    "# dummies_train = pd.get_dummies(train_target)\n",
    "ss = StandardScaler()\n",
    "data_train = ss.fit_transform(X=train, y=train_target)\n",
    "df_train = pd.DataFrame.from_records(data=data_train, columns=None)\n",
    "df_train = df_train.applymap(lambda x: '%.4f' % x)\n",
    "df_train['radiant_win'] = train_target.values\n",
    "print df_train.shape\n",
    "df_train.to_csv('clean_dota2_train', sep=',', encoding='utf-8', index=False)\n",
    "\n",
    "data_test = ss.transform(X=test)\n",
    "df_test = pd.DataFrame.from_records(data=data_test, columns=None)\n",
    "df_test = df_test.applymap(lambda x: '%.4f' % x)\n",
    "df_test['radiant_win'] = test_target.values\n",
    "print df_test.shape\n",
    "df_test.to_csv('clean_dota2_test', sep=',', encoding='utf-8', index=False)"
   ]
  },
  {
   "cell_type": "code",
   "execution_count": 9,
   "metadata": {
    "collapsed": false
   },
   "outputs": [],
   "source": [
    "df_test = pd.read_csv('features_test.csv', index_col='match_id')\n",
    "df = pd.read_csv('features.csv', index_col='match_id')\n",
    "\n",
    "target = df['radiant_win']\n",
    "del df['radiant_win']\n",
    "del df['start_time']\n",
    "\n",
    "df = preprocess(df)\n",
    "df = categorize_heroes(df)\n",
    "df = categorize_lobbies(df)\n",
    "\n",
    "df_test.fillna(0, inplace=True)\n",
    "df_test = categorize_heroes(df_test)\n",
    "df_test = categorize_lobbies(df_test)\n",
    "\n",
    "del df_test['start_time']\n",
    "ss = StandardScaler()\n",
    "ss.fit_transform(X=df, y=target)\n",
    "data_test = ss.transform(X=df_test)\n",
    "df_test = pd.DataFrame.from_records(data=data_test, columns=None)\n",
    "df_test = df_test.applymap(lambda x: '%.4f' % x)\n",
    "df_test.to_csv('dota2_test', sep=',', encoding='utf-8', index=False)"
   ]
  },
  {
   "cell_type": "code",
   "execution_count": 7,
   "metadata": {
    "collapsed": false
   },
   "outputs": [
    {
     "name": "stdout",
     "output_type": "stream",
     "text": [
      "Time elapsed: 0:01:32.496000\n",
      "[ 0.72106467  0.71598025  0.71619558  0.7212618 ]\n"
     ]
    }
   ],
   "source": [
    "kf = cv.KFold(len(df.index), n_folds=4, shuffle=True, random_state=241)\n",
    "start_time = datetime.datetime.now()\n",
    "\n",
    "clf = GradientBoostingClassifier(n_estimators=30,verbose=True, random_state=241)\n",
    "cs_result = cv.cross_val_score(clf, X=X_train, y=target, cv=kf, scoring='roc_auc', n_jobs=-1)\n",
    "\n",
    "print 'Time elapsed:', datetime.datetime.now() - start_time\n",
    "print cs_result"
   ]
  },
  {
   "cell_type": "code",
   "execution_count": 5,
   "metadata": {
    "collapsed": false
   },
   "outputs": [
    {
     "name": "stdout",
     "output_type": "stream",
     "text": [
      "1    55962\n",
      "7    28550\n",
      "0    12718\n",
      "Name: lobby_type, dtype: int64\n"
     ]
    }
   ],
   "source": [
    "# Количество героев в датасете (общее количество героев в игре: 112)\n",
    "import numpy as np\n",
    "df = pd.read_csv('features.csv', index_col=None)\n",
    "# df_test = pd.read_csv('features_test.csv', index_col=None)\n",
    "print df['lobby_type'].value_counts()\n",
    "# print len(np.unique(df[['r1_hero', 'r2_hero', 'r3_hero', 'r4_hero', 'r5_hero', 'd1_hero', 'd2_hero', 'd3_hero', 'd4_hero', 'd5_hero']]))\n",
    "# print len(np.unique(df_test[['r1_hero', 'r2_hero', 'r3_hero', 'r4_hero', 'r5_hero', 'd1_hero', 'd2_hero', 'd3_hero', 'd4_hero', 'd5_hero']]))"
   ]
  },
  {
   "cell_type": "code",
   "execution_count": 6,
   "metadata": {
    "collapsed": true
   },
   "outputs": [],
   "source": [
    "df = pd.read_csv('features.csv', index_col=None)\n",
    "\n",
    "target = df['radiant_win']\n",
    "del df['radiant_win']\n",
    "del df['match_id']\n",
    "\n",
    "df = preprocess(df)\n",
    "df = categorize_heroes(df)\n",
    "df = categorize_lobbies(df)\n",
    "\n",
    "ss = StandardScaler()\n",
    "X_train = ss.fit_transform(X=df, y=target)"
   ]
  },
  {
   "cell_type": "code",
   "execution_count": 7,
   "metadata": {
    "collapsed": false
   },
   "outputs": [
    {
     "name": "stdout",
     "output_type": "stream",
     "text": [
      "(97230, 211)\n",
      "Time elapsed: 0:00:19.574000\n",
      "[ 0.75339035  0.75174887  0.74853068  0.7529954 ]\n"
     ]
    }
   ],
   "source": [
    "from sklearn.linear_model import LogisticRegression\n",
    "from sklearn.grid_search import GridSearchCV\n",
    "\n",
    "print df.shape\n",
    "start_time = datetime.datetime.now()\n",
    "\n",
    "kf = cv.KFold(len(df.index), n_folds=4, shuffle=True, random_state=241)\n",
    "tuned_parameters = {'C': [0.1, 0.5, 1, 10, 100, 1000], 'penalty':['l2']}\n",
    "# lr = GridSearchCV(LogisticRegression(random_state=241, n_jobs=-1), tuned_parameters, cv=5, scoring='roc_auc')\n",
    "lr = LogisticRegression(penalty='l2', random_state=241, n_jobs=-1, C=0.01)\n",
    "cs_result = cv.cross_val_score(lr, X=X_train, y=target, cv=kf, scoring='roc_auc', n_jobs=-1)\n",
    "print 'Time elapsed:', datetime.datetime.now() - start_time\n",
    "print cs_result"
   ]
  },
  {
   "cell_type": "code",
   "execution_count": 8,
   "metadata": {
    "collapsed": false
   },
   "outputs": [
    {
     "name": "stdout",
     "output_type": "stream",
     "text": [
      "[[ 0.18440831  0.81559169]\n",
      " [ 0.24028864  0.75971136]\n",
      " [ 0.80818866  0.19181134]\n",
      " [ 0.13678844  0.86321156]\n",
      " [ 0.74625801  0.25374199]\n",
      " [ 0.63804943  0.36195057]\n",
      " [ 0.46154706  0.53845294]\n",
      " [ 0.42502168  0.57497832]\n",
      " [ 0.77052818  0.22947182]\n",
      " [ 0.32036602  0.67963398]]\n",
      "max:  0.996650299848\n",
      "min:  0.0087276102848\n"
     ]
    }
   ],
   "source": [
    "df_test = pd.read_csv('features_test.csv', index_col=None)\n",
    "df_test.fillna(0, inplace=True)\n",
    "df_test = categorize_heroes(df_test)\n",
    "df_test = categorize_lobbies(df_test)\n",
    "match_ids = df_test['match_id']\n",
    "del df_test['match_id']\n",
    "X_test = ss.transform(X=df_test)\n",
    "lr.fit(X=X_train, y=target)\n",
    "predicted = lr.predict_proba(X_test)\n",
    "print predicted[:10]\n",
    "print 'max: ', max(predicted[:,1])\n",
    "print 'min: ', min(predicted[:,1])"
   ]
  },
  {
   "cell_type": "code",
   "execution_count": 23,
   "metadata": {
    "collapsed": true
   },
   "outputs": [],
   "source": [
    "from sklearn.preprocessing import StandardScaler\n",
    "from sklearn.linear_model import LogisticRegression\n",
    "from sklearn.grid_search import GridSearchCV\n",
    "\n",
    "ss = StandardScaler()\n",
    "\n",
    "df_orig = pd.read_csv('features.csv', index_col=None)\n",
    "df_test = pd.read_csv('features_test.csv', index_col=None)\n",
    "\n",
    "df = df_orig.copy()\n",
    "target = df['radiant_win']\n",
    "del df['radiant_win']\n",
    "del df['match_id']\n",
    "\n",
    "df = preprocess(df)\n",
    "df = categorize_heroes(df)\n",
    "df = categorize_lobbies(df)\n",
    "\n",
    "df_test.fillna(0, inplace=True)\n",
    "df_test = categorize_heroes(df_test)\n",
    "df_test = categorize_lobbies(df_test)\n",
    "match_ids = df_test['match_id']\n",
    "del df_test['match_id']\n",
    "ss.fit_transform(X=df, y=target)\n",
    "\n",
    "kf = cv.KFold(len(df.index), n_folds=4, shuffle=True, random_state=241)\n",
    "lr = LogisticRegression(penalty='l2', random_state=241, n_jobs=-1, C=0.1)\n",
    "\n",
    "train = df.values.tolist()\n",
    "target = target.tolist()\n",
    "test = df_test.values.tolist()"
   ]
  },
  {
   "cell_type": "code",
   "execution_count": 24,
   "metadata": {
    "collapsed": false
   },
   "outputs": [
    {
     "name": "stdout",
     "output_type": "stream",
     "text": [
      "train data length:  97230\n",
      "target length:  97230\n",
      "test length:  17177\n",
      "[ 0.75340299  0.7517499   0.74853067  0.75302096]\n",
      "[[    0 16032]\n",
      " [    1  1145]]\n",
      "[[    0 16338]\n",
      " [    1   839]]\n",
      "Time elapsed: 0:00:35.299000\n",
      "train data length:  99214\n",
      "target length:  99214\n",
      "test length:  15193\n",
      "[ 0.75340303  0.75174967  0.74853069  0.75302077]\n",
      "[[    0 15107]\n",
      " [    1    86]]\n",
      "[[    0 15133]\n",
      " [    1    60]]\n",
      "Time elapsed: 0:00:34.645000\n"
     ]
    }
   ],
   "source": [
    "bound = 0.85\n",
    "for i in xrange(2):\n",
    "    start_time = datetime.datetime.now()\n",
    "    print \"train data length: \", len(train)\n",
    "    print \"target length: \", len(target)\n",
    "    print \"test length: \", len(test)\n",
    "    X_train = ss.fit_transform(X=train, y=target)\n",
    "    cs_result = cv.cross_val_score(lr, X=X_train, y=target, cv=kf, scoring='roc_auc', n_jobs=-1)\n",
    "    print cs_result\n",
    "    X_test = ss.transform(X=test)\n",
    "    lr.fit(X=X_train, y=target)\n",
    "    predicted = lr.predict_proba(X_test)\n",
    "    radian_win = predicted[:,1] > bound\n",
    "    dire_win = predicted[:,0] > bound\n",
    "    del_ix = []\n",
    "    for i in xrange(len(predicted)):\n",
    "        if radian_win[i]: \n",
    "            train.append(test[i])\n",
    "            target.append(1)\n",
    "            del_ix.append(i)\n",
    "            # todo del from test\n",
    "        if dire_win[i]:\n",
    "            train.append(test[i])\n",
    "            target.append(0)\n",
    "            del_ix.append(i)\n",
    "            # todo del from test\n",
    "    for i in sorted(del_ix, reverse=True):\n",
    "        del test[i]\n",
    "    unique, counts = np.unique(predicted[:,1] > bound, return_counts=True)\n",
    "    print np.asarray((unique, counts)).T\n",
    "    unique, counts = np.unique(predicted[:,0] > bound, return_counts=True)\n",
    "    print np.asarray((unique, counts)).T\n",
    "    print 'Time elapsed:', datetime.datetime.now() - start_time"
   ]
  },
  {
   "cell_type": "code",
   "execution_count": 28,
   "metadata": {
    "collapsed": false
   },
   "outputs": [
    {
     "name": "stdout",
     "output_type": "stream",
     "text": [
      "99360\n",
      "99360\n",
      "[[ 0.48037768  0.51962232]\n",
      " [ 0.4803776   0.5196224 ]\n",
      " [ 0.48037749  0.51962251]\n",
      " [ 0.48037718  0.51962282]\n",
      " [ 0.48037708  0.51962292]\n",
      " [ 0.48037704  0.51962296]\n",
      " [ 0.48037703  0.51962297]\n",
      " [ 0.48037683  0.51962317]\n",
      " [ 0.4803766   0.5196234 ]\n",
      " [ 0.48037648  0.51962352]]\n",
      "   match_id  radiant_win\n",
      "0         6     0.519622\n",
      "1         7     0.519622\n",
      "2        10     0.519623\n",
      "3        13     0.519623\n",
      "4        16     0.519623\n"
     ]
    }
   ],
   "source": [
    "print len(train)\n",
    "print len(target)\n",
    "lr.fit(X=train, y=target)\n",
    "predicted = lr.predict_proba(df_test)\n",
    "print predicted[:10]\n",
    "d = {'match_id': match_ids, 'radiant_win': predicted[:,1]}\n",
    "df_result = pd.DataFrame(data=d, index=None)\n",
    "print df_result.head()\n",
    "df_result.to_csv('submission', sep=',', encoding='utf-8', index=False)"
   ]
  },
  {
   "cell_type": "code",
   "execution_count": 4,
   "metadata": {
    "collapsed": true
   },
   "outputs": [],
   "source": [
    "df = pd.read_csv('features.csv', index_col=None)"
   ]
  },
  {
   "cell_type": "code",
   "execution_count": 6,
   "metadata": {
    "collapsed": false
   },
   "outputs": [
    {
     "name": "stdout",
     "output_type": "stream",
     "text": [
      "[1.0, 1430220345.0, 0.0, 42.0, 4.0, 1188.0, 1033.0, 9.0, 0.0, 1.0, 12.0, 49.0, 4.0, 1596.0, 993.0, 10.0, 0.0, 1.0, 7.0, 67.0, 4.0, 1506.0, 1502.0, 18.0, 1.0, 0.0, 7.0, 37.0, 3.0, 669.0, 631.0, 7.0, 0.0, 0.0, 7.0, 26.0, 2.0, 415.0, 539.0, 1.0, 0.0, 0.0, 5.0, 39.0, 5.0, 1960.0, 1384.0, 16.0, 0.0, 0.0, 8.0, 88.0, 3.0, 640.0, 566.0, 1.0, 0.0, 1.0, 5.0, 79.0, 3.0, 720.0, 1350.0, 2.0, 2.0, 0.0, 12.0, 7.0, 2.0, 440.0, 583.0, 0.0, 0.0, 0.0, 7.0, 12.0, 4.0, 1470.0, 1622.0, 24.0, 0.0, 0.0, 9.0, 54.0, 1.0, 7.0, nan, 173.0, -80.0, nan, 2.0, 0.0, 2.0, 0.0, -20.0, 149.0, -84.0, 195.0, 5.0, 4.0, 3.0, 1.0, -5.0, 2463.0, 1.0, 1974.0, 0.0, 63.0, 1.0]\n"
     ]
    }
   ],
   "source": [
    "a = df.values.tolist()\n",
    "print a[1]\n",
    "# print df.head()\n",
    "# todel = []\n",
    "# todel.append(1)\n",
    "# todel.append(3)\n",
    "# df.drop(df.index[[todel]], inplace=True)\n",
    "# print df.head()"
   ]
  },
  {
   "cell_type": "code",
   "execution_count": 26,
   "metadata": {
    "collapsed": false
   },
   "outputs": [
    {
     "name": "stdout",
     "output_type": "stream",
     "text": [
      "   match_id  radiant_win\n",
      "0         6     1.000000\n",
      "1         7     1.000000\n",
      "2        10     0.190810\n",
      "3        13     0.897760\n",
      "4        16     0.151311\n"
     ]
    }
   ],
   "source": [
    "d = {'match_id': match_ids, 'radiant_win': predicted[:,1]}\n",
    "df_result = pd.DataFrame(data=d, index=None)\n",
    "print df_result.head()\n",
    "df_result.to_csv('submission', sep=',', encoding='utf-8', index=False)"
   ]
  },
  {
   "cell_type": "code",
   "execution_count": 7,
   "metadata": {
    "collapsed": true
   },
   "outputs": [],
   "source": [
    "from sklearn.ensemble import ExtraTreesClassifier\n",
    "df = pd.read_csv('features.csv', index_col=None)\n",
    "\n",
    "target = df['radiant_win']\n",
    "del df['radiant_win']\n",
    "del df['match_id']\n",
    "\n",
    "df = preprocess(df)\n",
    "df = categorize_heroes(df)\n",
    "df = categorize_lobbies(df)"
   ]
  },
  {
   "cell_type": "code",
   "execution_count": 13,
   "metadata": {
    "collapsed": false
   },
   "outputs": [
    {
     "name": "stdout",
     "output_type": "stream",
     "text": [
      "Time elapsed: 0:08:57.187000\n",
      "[ 0.71043932  0.71114338  0.70850037  0.71039338]\n"
     ]
    }
   ],
   "source": [
    "forest = ExtraTreesClassifier(n_estimators=500,\n",
    "                              n_jobs=-1,\n",
    "                              random_state=241,\n",
    "                              verbose=True)\n",
    "\n",
    "start_time = datetime.datetime.now()\n",
    "\n",
    "cs = cv.cross_val_score(forest, X=df, y=target, cv=kf, scoring='roc_auc', n_jobs=-1)\n",
    "\n",
    "print 'Time elapsed:', datetime.datetime.now() - start_time\n",
    "print cs"
   ]
  },
  {
   "cell_type": "code",
   "execution_count": null,
   "metadata": {
    "collapsed": true
   },
   "outputs": [],
   "source": [
    "forest.fit_transform(X=df, y=target)\n",
    "\n",
    "df_test = pd.read_csv('features_test.csv', index_col=None)\n",
    "df_test.fillna(0, inplace=True)\n",
    "df_test = categorize_heroes(df_test)\n",
    "df_test = categorize_lobbies(df_test)\n",
    "match_ids = df_test['match_id']\n",
    "del df_test['match_id']\n",
    "\n",
    "predicted = forest.predict_proba(X=df_test)\n",
    "print predicted[:10]"
   ]
  }
 ],
 "metadata": {
  "kernelspec": {
   "display_name": "Python 2",
   "language": "python",
   "name": "python2"
  },
  "language_info": {
   "codemirror_mode": {
    "name": "ipython",
    "version": 2
   },
   "file_extension": ".py",
   "mimetype": "text/x-python",
   "name": "python",
   "nbconvert_exporter": "python",
   "pygments_lexer": "ipython2",
   "version": "2.7.11"
  }
 },
 "nbformat": 4,
 "nbformat_minor": 0
}
